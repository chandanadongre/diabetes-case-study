{
  "nbformat": 4,
  "nbformat_minor": 0,
  "metadata": {
    "colab": {
      "provenance": []
    },
    "kernelspec": {
      "name": "python3",
      "display_name": "Python 3"
    },
    "language_info": {
      "name": "python"
    }
  },
  "cells": [
    {
      "cell_type": "markdown",
      "source": [
        "#NAME:CHANDANA DONGRE\n",
        "#SRN:PES2UG21CS134\n",
        "#SECTION:C"
      ],
      "metadata": {
        "id": "NGKsMpkygmbg"
      }
    },
    {
      "cell_type": "markdown",
      "source": [
        "#Data Description Statistics\n",
        "a. What is the structure (shape) of the dataset?\n"
      ],
      "metadata": {
        "id": "k1AOprPaKr5z"
      }
    },
    {
      "cell_type": "code",
      "execution_count": null,
      "metadata": {
        "id": "iNRwW3JpI1Bj"
      },
      "outputs": [],
      "source": [
        "import pandas as pd\n",
        "import numpy as np\n",
        "import matplotlib.pyplot as plt\n",
        "import seaborn as sns\n",
        "import math\n",
        "import scipy\n",
        "from scipy import stats\n",
        "from scipy.stats import chi2_contingency\n",
        "from sklearn import metrics\n",
        "from sklearn.linear_model import LinearRegression\n",
        "from sklearn.model_selection import train_test_split\n",
        "from sklearn.metrics import mean_absolute_error\n",
        "from sklearn.metrics import mean_squared_error\n",
        "import warnings\n",
        "warnings.filterwarnings('ignore')"
      ]
    },
    {
      "cell_type": "code",
      "source": [
        "dataset=pd.read_csv(\"diabetes-case-study.csv\")\n",
        "dataset.info()"
      ],
      "metadata": {
        "colab": {
          "base_uri": "https://localhost:8080/"
        },
        "id": "dDAK2JjlK3XW",
        "outputId": "fec92d98-d473-4624-bd2d-cc64abbbebeb"
      },
      "execution_count": null,
      "outputs": [
        {
          "output_type": "stream",
          "name": "stdout",
          "text": [
            "<class 'pandas.core.frame.DataFrame'>\n",
            "RangeIndex: 768 entries, 0 to 767\n",
            "Data columns (total 9 columns):\n",
            " #   Column                    Non-Null Count  Dtype  \n",
            "---  ------                    --------------  -----  \n",
            " 0   Pregnancies               768 non-null    int64  \n",
            " 1   Glucose                   768 non-null    int64  \n",
            " 2   BloodPressure             768 non-null    int64  \n",
            " 3   SkinThickness             768 non-null    int64  \n",
            " 4   Insulin                   768 non-null    int64  \n",
            " 5   BMI                       768 non-null    float64\n",
            " 6   DiabetesPedigreeFunction  768 non-null    float64\n",
            " 7   Age                       768 non-null    int64  \n",
            " 8   Outcome                   768 non-null    int64  \n",
            "dtypes: float64(2), int64(7)\n",
            "memory usage: 54.1 KB\n"
          ]
        }
      ]
    },
    {
      "cell_type": "code",
      "source": [
        "dataset.head()"
      ],
      "metadata": {
        "colab": {
          "base_uri": "https://localhost:8080/",
          "height": 270
        },
        "id": "1KNurNDILyEp",
        "outputId": "4f8d78a6-2578-4154-8e8a-b09f19835cc2"
      },
      "execution_count": null,
      "outputs": [
        {
          "output_type": "execute_result",
          "data": {
            "text/plain": [
              "   Pregnancies  Glucose  BloodPressure  SkinThickness  Insulin   BMI  \\\n",
              "0            6      148             72             35        0  33.6   \n",
              "1            1       85             66             29        0  26.6   \n",
              "2            8      183             64              0        0  23.3   \n",
              "3            1       89             66             23       94  28.1   \n",
              "4            0      137             40             35      168  43.1   \n",
              "\n",
              "   DiabetesPedigreeFunction  Age  Outcome  \n",
              "0                     0.627   50        1  \n",
              "1                     0.351   31        0  \n",
              "2                     0.672   32        1  \n",
              "3                     0.167   21        0  \n",
              "4                     2.288   33        1  "
            ],
            "text/html": [
              "\n",
              "  <div id=\"df-3ef94c63-edb8-43da-872b-7c816580f57b\">\n",
              "    <div class=\"colab-df-container\">\n",
              "      <div>\n",
              "<style scoped>\n",
              "    .dataframe tbody tr th:only-of-type {\n",
              "        vertical-align: middle;\n",
              "    }\n",
              "\n",
              "    .dataframe tbody tr th {\n",
              "        vertical-align: top;\n",
              "    }\n",
              "\n",
              "    .dataframe thead th {\n",
              "        text-align: right;\n",
              "    }\n",
              "</style>\n",
              "<table border=\"1\" class=\"dataframe\">\n",
              "  <thead>\n",
              "    <tr style=\"text-align: right;\">\n",
              "      <th></th>\n",
              "      <th>Pregnancies</th>\n",
              "      <th>Glucose</th>\n",
              "      <th>BloodPressure</th>\n",
              "      <th>SkinThickness</th>\n",
              "      <th>Insulin</th>\n",
              "      <th>BMI</th>\n",
              "      <th>DiabetesPedigreeFunction</th>\n",
              "      <th>Age</th>\n",
              "      <th>Outcome</th>\n",
              "    </tr>\n",
              "  </thead>\n",
              "  <tbody>\n",
              "    <tr>\n",
              "      <th>0</th>\n",
              "      <td>6</td>\n",
              "      <td>148</td>\n",
              "      <td>72</td>\n",
              "      <td>35</td>\n",
              "      <td>0</td>\n",
              "      <td>33.6</td>\n",
              "      <td>0.627</td>\n",
              "      <td>50</td>\n",
              "      <td>1</td>\n",
              "    </tr>\n",
              "    <tr>\n",
              "      <th>1</th>\n",
              "      <td>1</td>\n",
              "      <td>85</td>\n",
              "      <td>66</td>\n",
              "      <td>29</td>\n",
              "      <td>0</td>\n",
              "      <td>26.6</td>\n",
              "      <td>0.351</td>\n",
              "      <td>31</td>\n",
              "      <td>0</td>\n",
              "    </tr>\n",
              "    <tr>\n",
              "      <th>2</th>\n",
              "      <td>8</td>\n",
              "      <td>183</td>\n",
              "      <td>64</td>\n",
              "      <td>0</td>\n",
              "      <td>0</td>\n",
              "      <td>23.3</td>\n",
              "      <td>0.672</td>\n",
              "      <td>32</td>\n",
              "      <td>1</td>\n",
              "    </tr>\n",
              "    <tr>\n",
              "      <th>3</th>\n",
              "      <td>1</td>\n",
              "      <td>89</td>\n",
              "      <td>66</td>\n",
              "      <td>23</td>\n",
              "      <td>94</td>\n",
              "      <td>28.1</td>\n",
              "      <td>0.167</td>\n",
              "      <td>21</td>\n",
              "      <td>0</td>\n",
              "    </tr>\n",
              "    <tr>\n",
              "      <th>4</th>\n",
              "      <td>0</td>\n",
              "      <td>137</td>\n",
              "      <td>40</td>\n",
              "      <td>35</td>\n",
              "      <td>168</td>\n",
              "      <td>43.1</td>\n",
              "      <td>2.288</td>\n",
              "      <td>33</td>\n",
              "      <td>1</td>\n",
              "    </tr>\n",
              "  </tbody>\n",
              "</table>\n",
              "</div>\n",
              "      <button class=\"colab-df-convert\" onclick=\"convertToInteractive('df-3ef94c63-edb8-43da-872b-7c816580f57b')\"\n",
              "              title=\"Convert this dataframe to an interactive table.\"\n",
              "              style=\"display:none;\">\n",
              "        \n",
              "  <svg xmlns=\"http://www.w3.org/2000/svg\" height=\"24px\"viewBox=\"0 0 24 24\"\n",
              "       width=\"24px\">\n",
              "    <path d=\"M0 0h24v24H0V0z\" fill=\"none\"/>\n",
              "    <path d=\"M18.56 5.44l.94 2.06.94-2.06 2.06-.94-2.06-.94-.94-2.06-.94 2.06-2.06.94zm-11 1L8.5 8.5l.94-2.06 2.06-.94-2.06-.94L8.5 2.5l-.94 2.06-2.06.94zm10 10l.94 2.06.94-2.06 2.06-.94-2.06-.94-.94-2.06-.94 2.06-2.06.94z\"/><path d=\"M17.41 7.96l-1.37-1.37c-.4-.4-.92-.59-1.43-.59-.52 0-1.04.2-1.43.59L10.3 9.45l-7.72 7.72c-.78.78-.78 2.05 0 2.83L4 21.41c.39.39.9.59 1.41.59.51 0 1.02-.2 1.41-.59l7.78-7.78 2.81-2.81c.8-.78.8-2.07 0-2.86zM5.41 20L4 18.59l7.72-7.72 1.47 1.35L5.41 20z\"/>\n",
              "  </svg>\n",
              "      </button>\n",
              "      \n",
              "  <style>\n",
              "    .colab-df-container {\n",
              "      display:flex;\n",
              "      flex-wrap:wrap;\n",
              "      gap: 12px;\n",
              "    }\n",
              "\n",
              "    .colab-df-convert {\n",
              "      background-color: #E8F0FE;\n",
              "      border: none;\n",
              "      border-radius: 50%;\n",
              "      cursor: pointer;\n",
              "      display: none;\n",
              "      fill: #1967D2;\n",
              "      height: 32px;\n",
              "      padding: 0 0 0 0;\n",
              "      width: 32px;\n",
              "    }\n",
              "\n",
              "    .colab-df-convert:hover {\n",
              "      background-color: #E2EBFA;\n",
              "      box-shadow: 0px 1px 2px rgba(60, 64, 67, 0.3), 0px 1px 3px 1px rgba(60, 64, 67, 0.15);\n",
              "      fill: #174EA6;\n",
              "    }\n",
              "\n",
              "    [theme=dark] .colab-df-convert {\n",
              "      background-color: #3B4455;\n",
              "      fill: #D2E3FC;\n",
              "    }\n",
              "\n",
              "    [theme=dark] .colab-df-convert:hover {\n",
              "      background-color: #434B5C;\n",
              "      box-shadow: 0px 1px 3px 1px rgba(0, 0, 0, 0.15);\n",
              "      filter: drop-shadow(0px 1px 2px rgba(0, 0, 0, 0.3));\n",
              "      fill: #FFFFFF;\n",
              "    }\n",
              "  </style>\n",
              "\n",
              "      <script>\n",
              "        const buttonEl =\n",
              "          document.querySelector('#df-3ef94c63-edb8-43da-872b-7c816580f57b button.colab-df-convert');\n",
              "        buttonEl.style.display =\n",
              "          google.colab.kernel.accessAllowed ? 'block' : 'none';\n",
              "\n",
              "        async function convertToInteractive(key) {\n",
              "          const element = document.querySelector('#df-3ef94c63-edb8-43da-872b-7c816580f57b');\n",
              "          const dataTable =\n",
              "            await google.colab.kernel.invokeFunction('convertToInteractive',\n",
              "                                                     [key], {});\n",
              "          if (!dataTable) return;\n",
              "\n",
              "          const docLinkHtml = 'Like what you see? Visit the ' +\n",
              "            '<a target=\"_blank\" href=https://colab.research.google.com/notebooks/data_table.ipynb>data table notebook</a>'\n",
              "            + ' to learn more about interactive tables.';\n",
              "          element.innerHTML = '';\n",
              "          dataTable['output_type'] = 'display_data';\n",
              "          await google.colab.output.renderOutput(dataTable, element);\n",
              "          const docLink = document.createElement('div');\n",
              "          docLink.innerHTML = docLinkHtml;\n",
              "          element.appendChild(docLink);\n",
              "        }\n",
              "      </script>\n",
              "    </div>\n",
              "  </div>\n",
              "  "
            ]
          },
          "metadata": {},
          "execution_count": 6
        }
      ]
    },
    {
      "cell_type": "code",
      "source": [
        "dataset.describe()"
      ],
      "metadata": {
        "colab": {
          "base_uri": "https://localhost:8080/",
          "height": 364
        },
        "id": "0kQHwZtqOPMk",
        "outputId": "c24db02a-6713-4538-eead-8410f25c2b33"
      },
      "execution_count": null,
      "outputs": [
        {
          "output_type": "execute_result",
          "data": {
            "text/plain": [
              "       Pregnancies     Glucose  BloodPressure  SkinThickness     Insulin  \\\n",
              "count   768.000000  768.000000     768.000000     768.000000  768.000000   \n",
              "mean      3.845052  120.894531      69.105469      20.536458   79.799479   \n",
              "std       3.369578   31.972618      19.355807      15.952218  115.244002   \n",
              "min       0.000000    0.000000       0.000000       0.000000    0.000000   \n",
              "25%       1.000000   99.000000      62.000000       0.000000    0.000000   \n",
              "50%       3.000000  117.000000      72.000000      23.000000   30.500000   \n",
              "75%       6.000000  140.250000      80.000000      32.000000  127.250000   \n",
              "max      17.000000  199.000000     122.000000      99.000000  846.000000   \n",
              "\n",
              "              BMI  DiabetesPedigreeFunction         Age     Outcome  \n",
              "count  768.000000                768.000000  768.000000  768.000000  \n",
              "mean    31.992578                  0.471876   33.240885    0.348958  \n",
              "std      7.884160                  0.331329   11.760232    0.476951  \n",
              "min      0.000000                  0.078000   21.000000    0.000000  \n",
              "25%     27.300000                  0.243750   24.000000    0.000000  \n",
              "50%     32.000000                  0.372500   29.000000    0.000000  \n",
              "75%     36.600000                  0.626250   41.000000    1.000000  \n",
              "max     67.100000                  2.420000   81.000000    1.000000  "
            ],
            "text/html": [
              "\n",
              "  <div id=\"df-1d38b504-0ecd-4ee1-bf6b-6b5bf66806a3\">\n",
              "    <div class=\"colab-df-container\">\n",
              "      <div>\n",
              "<style scoped>\n",
              "    .dataframe tbody tr th:only-of-type {\n",
              "        vertical-align: middle;\n",
              "    }\n",
              "\n",
              "    .dataframe tbody tr th {\n",
              "        vertical-align: top;\n",
              "    }\n",
              "\n",
              "    .dataframe thead th {\n",
              "        text-align: right;\n",
              "    }\n",
              "</style>\n",
              "<table border=\"1\" class=\"dataframe\">\n",
              "  <thead>\n",
              "    <tr style=\"text-align: right;\">\n",
              "      <th></th>\n",
              "      <th>Pregnancies</th>\n",
              "      <th>Glucose</th>\n",
              "      <th>BloodPressure</th>\n",
              "      <th>SkinThickness</th>\n",
              "      <th>Insulin</th>\n",
              "      <th>BMI</th>\n",
              "      <th>DiabetesPedigreeFunction</th>\n",
              "      <th>Age</th>\n",
              "      <th>Outcome</th>\n",
              "    </tr>\n",
              "  </thead>\n",
              "  <tbody>\n",
              "    <tr>\n",
              "      <th>count</th>\n",
              "      <td>768.000000</td>\n",
              "      <td>768.000000</td>\n",
              "      <td>768.000000</td>\n",
              "      <td>768.000000</td>\n",
              "      <td>768.000000</td>\n",
              "      <td>768.000000</td>\n",
              "      <td>768.000000</td>\n",
              "      <td>768.000000</td>\n",
              "      <td>768.000000</td>\n",
              "    </tr>\n",
              "    <tr>\n",
              "      <th>mean</th>\n",
              "      <td>3.845052</td>\n",
              "      <td>120.894531</td>\n",
              "      <td>69.105469</td>\n",
              "      <td>20.536458</td>\n",
              "      <td>79.799479</td>\n",
              "      <td>31.992578</td>\n",
              "      <td>0.471876</td>\n",
              "      <td>33.240885</td>\n",
              "      <td>0.348958</td>\n",
              "    </tr>\n",
              "    <tr>\n",
              "      <th>std</th>\n",
              "      <td>3.369578</td>\n",
              "      <td>31.972618</td>\n",
              "      <td>19.355807</td>\n",
              "      <td>15.952218</td>\n",
              "      <td>115.244002</td>\n",
              "      <td>7.884160</td>\n",
              "      <td>0.331329</td>\n",
              "      <td>11.760232</td>\n",
              "      <td>0.476951</td>\n",
              "    </tr>\n",
              "    <tr>\n",
              "      <th>min</th>\n",
              "      <td>0.000000</td>\n",
              "      <td>0.000000</td>\n",
              "      <td>0.000000</td>\n",
              "      <td>0.000000</td>\n",
              "      <td>0.000000</td>\n",
              "      <td>0.000000</td>\n",
              "      <td>0.078000</td>\n",
              "      <td>21.000000</td>\n",
              "      <td>0.000000</td>\n",
              "    </tr>\n",
              "    <tr>\n",
              "      <th>25%</th>\n",
              "      <td>1.000000</td>\n",
              "      <td>99.000000</td>\n",
              "      <td>62.000000</td>\n",
              "      <td>0.000000</td>\n",
              "      <td>0.000000</td>\n",
              "      <td>27.300000</td>\n",
              "      <td>0.243750</td>\n",
              "      <td>24.000000</td>\n",
              "      <td>0.000000</td>\n",
              "    </tr>\n",
              "    <tr>\n",
              "      <th>50%</th>\n",
              "      <td>3.000000</td>\n",
              "      <td>117.000000</td>\n",
              "      <td>72.000000</td>\n",
              "      <td>23.000000</td>\n",
              "      <td>30.500000</td>\n",
              "      <td>32.000000</td>\n",
              "      <td>0.372500</td>\n",
              "      <td>29.000000</td>\n",
              "      <td>0.000000</td>\n",
              "    </tr>\n",
              "    <tr>\n",
              "      <th>75%</th>\n",
              "      <td>6.000000</td>\n",
              "      <td>140.250000</td>\n",
              "      <td>80.000000</td>\n",
              "      <td>32.000000</td>\n",
              "      <td>127.250000</td>\n",
              "      <td>36.600000</td>\n",
              "      <td>0.626250</td>\n",
              "      <td>41.000000</td>\n",
              "      <td>1.000000</td>\n",
              "    </tr>\n",
              "    <tr>\n",
              "      <th>max</th>\n",
              "      <td>17.000000</td>\n",
              "      <td>199.000000</td>\n",
              "      <td>122.000000</td>\n",
              "      <td>99.000000</td>\n",
              "      <td>846.000000</td>\n",
              "      <td>67.100000</td>\n",
              "      <td>2.420000</td>\n",
              "      <td>81.000000</td>\n",
              "      <td>1.000000</td>\n",
              "    </tr>\n",
              "  </tbody>\n",
              "</table>\n",
              "</div>\n",
              "      <button class=\"colab-df-convert\" onclick=\"convertToInteractive('df-1d38b504-0ecd-4ee1-bf6b-6b5bf66806a3')\"\n",
              "              title=\"Convert this dataframe to an interactive table.\"\n",
              "              style=\"display:none;\">\n",
              "        \n",
              "  <svg xmlns=\"http://www.w3.org/2000/svg\" height=\"24px\"viewBox=\"0 0 24 24\"\n",
              "       width=\"24px\">\n",
              "    <path d=\"M0 0h24v24H0V0z\" fill=\"none\"/>\n",
              "    <path d=\"M18.56 5.44l.94 2.06.94-2.06 2.06-.94-2.06-.94-.94-2.06-.94 2.06-2.06.94zm-11 1L8.5 8.5l.94-2.06 2.06-.94-2.06-.94L8.5 2.5l-.94 2.06-2.06.94zm10 10l.94 2.06.94-2.06 2.06-.94-2.06-.94-.94-2.06-.94 2.06-2.06.94z\"/><path d=\"M17.41 7.96l-1.37-1.37c-.4-.4-.92-.59-1.43-.59-.52 0-1.04.2-1.43.59L10.3 9.45l-7.72 7.72c-.78.78-.78 2.05 0 2.83L4 21.41c.39.39.9.59 1.41.59.51 0 1.02-.2 1.41-.59l7.78-7.78 2.81-2.81c.8-.78.8-2.07 0-2.86zM5.41 20L4 18.59l7.72-7.72 1.47 1.35L5.41 20z\"/>\n",
              "  </svg>\n",
              "      </button>\n",
              "      \n",
              "  <style>\n",
              "    .colab-df-container {\n",
              "      display:flex;\n",
              "      flex-wrap:wrap;\n",
              "      gap: 12px;\n",
              "    }\n",
              "\n",
              "    .colab-df-convert {\n",
              "      background-color: #E8F0FE;\n",
              "      border: none;\n",
              "      border-radius: 50%;\n",
              "      cursor: pointer;\n",
              "      display: none;\n",
              "      fill: #1967D2;\n",
              "      height: 32px;\n",
              "      padding: 0 0 0 0;\n",
              "      width: 32px;\n",
              "    }\n",
              "\n",
              "    .colab-df-convert:hover {\n",
              "      background-color: #E2EBFA;\n",
              "      box-shadow: 0px 1px 2px rgba(60, 64, 67, 0.3), 0px 1px 3px 1px rgba(60, 64, 67, 0.15);\n",
              "      fill: #174EA6;\n",
              "    }\n",
              "\n",
              "    [theme=dark] .colab-df-convert {\n",
              "      background-color: #3B4455;\n",
              "      fill: #D2E3FC;\n",
              "    }\n",
              "\n",
              "    [theme=dark] .colab-df-convert:hover {\n",
              "      background-color: #434B5C;\n",
              "      box-shadow: 0px 1px 3px 1px rgba(0, 0, 0, 0.15);\n",
              "      filter: drop-shadow(0px 1px 2px rgba(0, 0, 0, 0.3));\n",
              "      fill: #FFFFFF;\n",
              "    }\n",
              "  </style>\n",
              "\n",
              "      <script>\n",
              "        const buttonEl =\n",
              "          document.querySelector('#df-1d38b504-0ecd-4ee1-bf6b-6b5bf66806a3 button.colab-df-convert');\n",
              "        buttonEl.style.display =\n",
              "          google.colab.kernel.accessAllowed ? 'block' : 'none';\n",
              "\n",
              "        async function convertToInteractive(key) {\n",
              "          const element = document.querySelector('#df-1d38b504-0ecd-4ee1-bf6b-6b5bf66806a3');\n",
              "          const dataTable =\n",
              "            await google.colab.kernel.invokeFunction('convertToInteractive',\n",
              "                                                     [key], {});\n",
              "          if (!dataTable) return;\n",
              "\n",
              "          const docLinkHtml = 'Like what you see? Visit the ' +\n",
              "            '<a target=\"_blank\" href=https://colab.research.google.com/notebooks/data_table.ipynb>data table notebook</a>'\n",
              "            + ' to learn more about interactive tables.';\n",
              "          element.innerHTML = '';\n",
              "          dataTable['output_type'] = 'display_data';\n",
              "          await google.colab.output.renderOutput(dataTable, element);\n",
              "          const docLink = document.createElement('div');\n",
              "          docLink.innerHTML = docLinkHtml;\n",
              "          element.appendChild(docLink);\n",
              "        }\n",
              "      </script>\n",
              "    </div>\n",
              "  </div>\n",
              "  "
            ]
          },
          "metadata": {},
          "execution_count": 7
        }
      ]
    },
    {
      "cell_type": "code",
      "source": [
        "print(dataset.shape)\n",
        "print(dataset.size)"
      ],
      "metadata": {
        "colab": {
          "base_uri": "https://localhost:8080/"
        },
        "id": "1ftz3rw9LOVm",
        "outputId": "86f3d3db-0adc-46f0-ba88-7c9a82559a55"
      },
      "execution_count": null,
      "outputs": [
        {
          "output_type": "stream",
          "name": "stdout",
          "text": [
            "(768, 9)\n",
            "6912\n"
          ]
        }
      ]
    },
    {
      "cell_type": "markdown",
      "source": [
        "b. Show the min, max, and mean of Glucose,......?"
      ],
      "metadata": {
        "id": "c3BjpSdXL-L3"
      }
    },
    {
      "cell_type": "code",
      "source": [
        "dataset.max()"
      ],
      "metadata": {
        "colab": {
          "base_uri": "https://localhost:8080/"
        },
        "id": "GiLIunMCMEsK",
        "outputId": "1ea0a51c-c4d2-4b13-c195-36daab7d2432"
      },
      "execution_count": null,
      "outputs": [
        {
          "output_type": "execute_result",
          "data": {
            "text/plain": [
              "Pregnancies                  17.00\n",
              "Glucose                     199.00\n",
              "BloodPressure               122.00\n",
              "SkinThickness                99.00\n",
              "Insulin                     846.00\n",
              "BMI                          67.10\n",
              "DiabetesPedigreeFunction      2.42\n",
              "Age                          81.00\n",
              "Outcome                       1.00\n",
              "dtype: float64"
            ]
          },
          "metadata": {},
          "execution_count": 9
        }
      ]
    },
    {
      "cell_type": "code",
      "source": [
        "dataset.min()"
      ],
      "metadata": {
        "colab": {
          "base_uri": "https://localhost:8080/"
        },
        "id": "dAFSAun3MVfJ",
        "outputId": "421cf5a3-385e-4a23-da11-87717a5a45cb"
      },
      "execution_count": null,
      "outputs": [
        {
          "output_type": "execute_result",
          "data": {
            "text/plain": [
              "Pregnancies                  0.000\n",
              "Glucose                      0.000\n",
              "BloodPressure                0.000\n",
              "SkinThickness                0.000\n",
              "Insulin                      0.000\n",
              "BMI                          0.000\n",
              "DiabetesPedigreeFunction     0.078\n",
              "Age                         21.000\n",
              "Outcome                      0.000\n",
              "dtype: float64"
            ]
          },
          "metadata": {},
          "execution_count": 10
        }
      ]
    },
    {
      "cell_type": "code",
      "source": [
        "dataset.mean()"
      ],
      "metadata": {
        "colab": {
          "base_uri": "https://localhost:8080/"
        },
        "id": "ru4hp1X0MZxU",
        "outputId": "a92ae6db-31c1-4ad2-fbc9-986be385f29f"
      },
      "execution_count": null,
      "outputs": [
        {
          "output_type": "execute_result",
          "data": {
            "text/plain": [
              "Pregnancies                   3.845052\n",
              "Glucose                     120.894531\n",
              "BloodPressure                69.105469\n",
              "SkinThickness                20.536458\n",
              "Insulin                      79.799479\n",
              "BMI                          31.992578\n",
              "DiabetesPedigreeFunction      0.471876\n",
              "Age                          33.240885\n",
              "Outcome                       0.348958\n",
              "dtype: float64"
            ]
          },
          "metadata": {},
          "execution_count": 11
        }
      ]
    },
    {
      "cell_type": "markdown",
      "source": [
        "#Pre-processing\n",
        "a.Check for NULLs/Duplicates. Drop ttributes with more than 20% data missing"
      ],
      "metadata": {
        "id": "WwA3uSneM2P8"
      }
    },
    {
      "cell_type": "code",
      "source": [
        "dataset = dataset.replace('-', np.nan)"
      ],
      "metadata": {
        "id": "PNX83TvNQ7qu"
      },
      "execution_count": null,
      "outputs": []
    },
    {
      "cell_type": "code",
      "source": [
        "dataset.isna().sum()"
      ],
      "metadata": {
        "colab": {
          "base_uri": "https://localhost:8080/"
        },
        "id": "0lIlYx7IE2pp",
        "outputId": "797b7fd3-baad-4338-b7ee-89b274f29058"
      },
      "execution_count": null,
      "outputs": [
        {
          "output_type": "execute_result",
          "data": {
            "text/plain": [
              "Pregnancies                 0\n",
              "Glucose                     0\n",
              "BloodPressure               0\n",
              "SkinThickness               0\n",
              "Insulin                     0\n",
              "BMI                         0\n",
              "DiabetesPedigreeFunction    0\n",
              "Age                         0\n",
              "Outcome                     0\n",
              "dtype: int64"
            ]
          },
          "metadata": {},
          "execution_count": 16
        }
      ]
    },
    {
      "cell_type": "code",
      "source": [
        "dataset.sort_values(\"Pregnancies\", inplace = True)\n",
        "bool_series = dataset[\"Pregnancies\"].duplicated()"
      ],
      "metadata": {
        "id": "qEDmBhl5M9fp"
      },
      "execution_count": null,
      "outputs": []
    },
    {
      "cell_type": "code",
      "source": [
        "dataset.sort_values(\"Glucose\", inplace = True)\n",
        "bool_series = dataset[\"Glucose\"].duplicated()"
      ],
      "metadata": {
        "id": "SCl9K6ANSTyy"
      },
      "execution_count": null,
      "outputs": []
    },
    {
      "cell_type": "code",
      "source": [
        "dataset.sort_values(\"BloodPressure\", inplace = True)\n",
        "bool_series = dataset[\"BloodPressure\"].duplicated()"
      ],
      "metadata": {
        "id": "tts6NQP2SbHD"
      },
      "execution_count": null,
      "outputs": []
    },
    {
      "cell_type": "code",
      "source": [
        "dataset.sort_values(\"SkinThickness\", inplace = True)\n",
        "bool_series = dataset[\"SkinThickness\"].duplicated()"
      ],
      "metadata": {
        "id": "HI5RPlLpSg8J"
      },
      "execution_count": null,
      "outputs": []
    },
    {
      "cell_type": "code",
      "source": [
        "dataset.sort_values(\"Insulin\", inplace = True)\n",
        "bool_series = dataset[\"Insulin\"].duplicated()"
      ],
      "metadata": {
        "id": "rDLULeI3SnAS"
      },
      "execution_count": null,
      "outputs": []
    },
    {
      "cell_type": "code",
      "source": [
        "dataset.sort_values(\"BMI\", inplace = True)\n",
        "bool_series = dataset[\"BMI\"].duplicated()"
      ],
      "metadata": {
        "id": "WfMx3am8Stw7"
      },
      "execution_count": null,
      "outputs": []
    },
    {
      "cell_type": "code",
      "source": [
        "dataset.sort_values(\"DiabetesPedigreeFunction\", inplace = True)\n",
        "bool_series = dataset[\"DiabetesPedigreeFunction\"].duplicated()"
      ],
      "metadata": {
        "id": "LlaetFQCS0o5"
      },
      "execution_count": null,
      "outputs": []
    },
    {
      "cell_type": "code",
      "source": [
        "dataset.sort_values(\"Age\", inplace = True)\n",
        "bool_series = dataset[\"Age\"].duplicated()"
      ],
      "metadata": {
        "id": "5pGywMaiS6m2"
      },
      "execution_count": null,
      "outputs": []
    },
    {
      "cell_type": "code",
      "source": [
        "dataset.head()\n",
        "dataset[bool_series]"
      ],
      "metadata": {
        "colab": {
          "base_uri": "https://localhost:8080/",
          "height": 487
        },
        "id": "dumohjlQTAq0",
        "outputId": "b6170c40-6115-4882-9a51-1abee7209d87"
      },
      "execution_count": null,
      "outputs": [
        {
          "output_type": "execute_result",
          "data": {
            "text/plain": [
              "     Pregnancies  Glucose  BloodPressure  SkinThickness  Insulin   BMI  \\\n",
              "566            1       99             72             30       18  38.6   \n",
              "627            0      132             78              0        0  32.4   \n",
              "392            1      131             64             14      415  23.7   \n",
              "163            2      100             64             23        0  29.7   \n",
              "713            0      134             58             20      291  26.4   \n",
              "..           ...      ...            ...            ...      ...   ...   \n",
              "759            6      190             92              0        0  35.5   \n",
              "552            6      114             88              0        0  27.8   \n",
              "537            0       57             60              0        0  21.7   \n",
              "363            4      146             78              0        0  38.5   \n",
              "123            5      132             80              0        0  26.8   \n",
              "\n",
              "     DiabetesPedigreeFunction  Age  Outcome  \n",
              "566                     0.412   21        0  \n",
              "627                     0.393   21        0  \n",
              "392                     0.389   21        0  \n",
              "163                     0.368   21        0  \n",
              "713                     0.352   21        0  \n",
              "..                        ...  ...      ...  \n",
              "759                     0.278   66        1  \n",
              "552                     0.247   66        0  \n",
              "537                     0.735   67        0  \n",
              "363                     0.520   67        1  \n",
              "123                     0.186   69        0  \n",
              "\n",
              "[716 rows x 9 columns]"
            ],
            "text/html": [
              "\n",
              "  <div id=\"df-51a33fc7-c381-43bf-889d-a286f6fd4449\">\n",
              "    <div class=\"colab-df-container\">\n",
              "      <div>\n",
              "<style scoped>\n",
              "    .dataframe tbody tr th:only-of-type {\n",
              "        vertical-align: middle;\n",
              "    }\n",
              "\n",
              "    .dataframe tbody tr th {\n",
              "        vertical-align: top;\n",
              "    }\n",
              "\n",
              "    .dataframe thead th {\n",
              "        text-align: right;\n",
              "    }\n",
              "</style>\n",
              "<table border=\"1\" class=\"dataframe\">\n",
              "  <thead>\n",
              "    <tr style=\"text-align: right;\">\n",
              "      <th></th>\n",
              "      <th>Pregnancies</th>\n",
              "      <th>Glucose</th>\n",
              "      <th>BloodPressure</th>\n",
              "      <th>SkinThickness</th>\n",
              "      <th>Insulin</th>\n",
              "      <th>BMI</th>\n",
              "      <th>DiabetesPedigreeFunction</th>\n",
              "      <th>Age</th>\n",
              "      <th>Outcome</th>\n",
              "    </tr>\n",
              "  </thead>\n",
              "  <tbody>\n",
              "    <tr>\n",
              "      <th>566</th>\n",
              "      <td>1</td>\n",
              "      <td>99</td>\n",
              "      <td>72</td>\n",
              "      <td>30</td>\n",
              "      <td>18</td>\n",
              "      <td>38.6</td>\n",
              "      <td>0.412</td>\n",
              "      <td>21</td>\n",
              "      <td>0</td>\n",
              "    </tr>\n",
              "    <tr>\n",
              "      <th>627</th>\n",
              "      <td>0</td>\n",
              "      <td>132</td>\n",
              "      <td>78</td>\n",
              "      <td>0</td>\n",
              "      <td>0</td>\n",
              "      <td>32.4</td>\n",
              "      <td>0.393</td>\n",
              "      <td>21</td>\n",
              "      <td>0</td>\n",
              "    </tr>\n",
              "    <tr>\n",
              "      <th>392</th>\n",
              "      <td>1</td>\n",
              "      <td>131</td>\n",
              "      <td>64</td>\n",
              "      <td>14</td>\n",
              "      <td>415</td>\n",
              "      <td>23.7</td>\n",
              "      <td>0.389</td>\n",
              "      <td>21</td>\n",
              "      <td>0</td>\n",
              "    </tr>\n",
              "    <tr>\n",
              "      <th>163</th>\n",
              "      <td>2</td>\n",
              "      <td>100</td>\n",
              "      <td>64</td>\n",
              "      <td>23</td>\n",
              "      <td>0</td>\n",
              "      <td>29.7</td>\n",
              "      <td>0.368</td>\n",
              "      <td>21</td>\n",
              "      <td>0</td>\n",
              "    </tr>\n",
              "    <tr>\n",
              "      <th>713</th>\n",
              "      <td>0</td>\n",
              "      <td>134</td>\n",
              "      <td>58</td>\n",
              "      <td>20</td>\n",
              "      <td>291</td>\n",
              "      <td>26.4</td>\n",
              "      <td>0.352</td>\n",
              "      <td>21</td>\n",
              "      <td>0</td>\n",
              "    </tr>\n",
              "    <tr>\n",
              "      <th>...</th>\n",
              "      <td>...</td>\n",
              "      <td>...</td>\n",
              "      <td>...</td>\n",
              "      <td>...</td>\n",
              "      <td>...</td>\n",
              "      <td>...</td>\n",
              "      <td>...</td>\n",
              "      <td>...</td>\n",
              "      <td>...</td>\n",
              "    </tr>\n",
              "    <tr>\n",
              "      <th>759</th>\n",
              "      <td>6</td>\n",
              "      <td>190</td>\n",
              "      <td>92</td>\n",
              "      <td>0</td>\n",
              "      <td>0</td>\n",
              "      <td>35.5</td>\n",
              "      <td>0.278</td>\n",
              "      <td>66</td>\n",
              "      <td>1</td>\n",
              "    </tr>\n",
              "    <tr>\n",
              "      <th>552</th>\n",
              "      <td>6</td>\n",
              "      <td>114</td>\n",
              "      <td>88</td>\n",
              "      <td>0</td>\n",
              "      <td>0</td>\n",
              "      <td>27.8</td>\n",
              "      <td>0.247</td>\n",
              "      <td>66</td>\n",
              "      <td>0</td>\n",
              "    </tr>\n",
              "    <tr>\n",
              "      <th>537</th>\n",
              "      <td>0</td>\n",
              "      <td>57</td>\n",
              "      <td>60</td>\n",
              "      <td>0</td>\n",
              "      <td>0</td>\n",
              "      <td>21.7</td>\n",
              "      <td>0.735</td>\n",
              "      <td>67</td>\n",
              "      <td>0</td>\n",
              "    </tr>\n",
              "    <tr>\n",
              "      <th>363</th>\n",
              "      <td>4</td>\n",
              "      <td>146</td>\n",
              "      <td>78</td>\n",
              "      <td>0</td>\n",
              "      <td>0</td>\n",
              "      <td>38.5</td>\n",
              "      <td>0.520</td>\n",
              "      <td>67</td>\n",
              "      <td>1</td>\n",
              "    </tr>\n",
              "    <tr>\n",
              "      <th>123</th>\n",
              "      <td>5</td>\n",
              "      <td>132</td>\n",
              "      <td>80</td>\n",
              "      <td>0</td>\n",
              "      <td>0</td>\n",
              "      <td>26.8</td>\n",
              "      <td>0.186</td>\n",
              "      <td>69</td>\n",
              "      <td>0</td>\n",
              "    </tr>\n",
              "  </tbody>\n",
              "</table>\n",
              "<p>716 rows × 9 columns</p>\n",
              "</div>\n",
              "      <button class=\"colab-df-convert\" onclick=\"convertToInteractive('df-51a33fc7-c381-43bf-889d-a286f6fd4449')\"\n",
              "              title=\"Convert this dataframe to an interactive table.\"\n",
              "              style=\"display:none;\">\n",
              "        \n",
              "  <svg xmlns=\"http://www.w3.org/2000/svg\" height=\"24px\"viewBox=\"0 0 24 24\"\n",
              "       width=\"24px\">\n",
              "    <path d=\"M0 0h24v24H0V0z\" fill=\"none\"/>\n",
              "    <path d=\"M18.56 5.44l.94 2.06.94-2.06 2.06-.94-2.06-.94-.94-2.06-.94 2.06-2.06.94zm-11 1L8.5 8.5l.94-2.06 2.06-.94-2.06-.94L8.5 2.5l-.94 2.06-2.06.94zm10 10l.94 2.06.94-2.06 2.06-.94-2.06-.94-.94-2.06-.94 2.06-2.06.94z\"/><path d=\"M17.41 7.96l-1.37-1.37c-.4-.4-.92-.59-1.43-.59-.52 0-1.04.2-1.43.59L10.3 9.45l-7.72 7.72c-.78.78-.78 2.05 0 2.83L4 21.41c.39.39.9.59 1.41.59.51 0 1.02-.2 1.41-.59l7.78-7.78 2.81-2.81c.8-.78.8-2.07 0-2.86zM5.41 20L4 18.59l7.72-7.72 1.47 1.35L5.41 20z\"/>\n",
              "  </svg>\n",
              "      </button>\n",
              "      \n",
              "  <style>\n",
              "    .colab-df-container {\n",
              "      display:flex;\n",
              "      flex-wrap:wrap;\n",
              "      gap: 12px;\n",
              "    }\n",
              "\n",
              "    .colab-df-convert {\n",
              "      background-color: #E8F0FE;\n",
              "      border: none;\n",
              "      border-radius: 50%;\n",
              "      cursor: pointer;\n",
              "      display: none;\n",
              "      fill: #1967D2;\n",
              "      height: 32px;\n",
              "      padding: 0 0 0 0;\n",
              "      width: 32px;\n",
              "    }\n",
              "\n",
              "    .colab-df-convert:hover {\n",
              "      background-color: #E2EBFA;\n",
              "      box-shadow: 0px 1px 2px rgba(60, 64, 67, 0.3), 0px 1px 3px 1px rgba(60, 64, 67, 0.15);\n",
              "      fill: #174EA6;\n",
              "    }\n",
              "\n",
              "    [theme=dark] .colab-df-convert {\n",
              "      background-color: #3B4455;\n",
              "      fill: #D2E3FC;\n",
              "    }\n",
              "\n",
              "    [theme=dark] .colab-df-convert:hover {\n",
              "      background-color: #434B5C;\n",
              "      box-shadow: 0px 1px 3px 1px rgba(0, 0, 0, 0.15);\n",
              "      filter: drop-shadow(0px 1px 2px rgba(0, 0, 0, 0.3));\n",
              "      fill: #FFFFFF;\n",
              "    }\n",
              "  </style>\n",
              "\n",
              "      <script>\n",
              "        const buttonEl =\n",
              "          document.querySelector('#df-51a33fc7-c381-43bf-889d-a286f6fd4449 button.colab-df-convert');\n",
              "        buttonEl.style.display =\n",
              "          google.colab.kernel.accessAllowed ? 'block' : 'none';\n",
              "\n",
              "        async function convertToInteractive(key) {\n",
              "          const element = document.querySelector('#df-51a33fc7-c381-43bf-889d-a286f6fd4449');\n",
              "          const dataTable =\n",
              "            await google.colab.kernel.invokeFunction('convertToInteractive',\n",
              "                                                     [key], {});\n",
              "          if (!dataTable) return;\n",
              "\n",
              "          const docLinkHtml = 'Like what you see? Visit the ' +\n",
              "            '<a target=\"_blank\" href=https://colab.research.google.com/notebooks/data_table.ipynb>data table notebook</a>'\n",
              "            + ' to learn more about interactive tables.';\n",
              "          element.innerHTML = '';\n",
              "          dataTable['output_type'] = 'display_data';\n",
              "          await google.colab.output.renderOutput(dataTable, element);\n",
              "          const docLink = document.createElement('div');\n",
              "          docLink.innerHTML = docLinkHtml;\n",
              "          element.appendChild(docLink);\n",
              "        }\n",
              "      </script>\n",
              "    </div>\n",
              "  </div>\n",
              "  "
            ]
          },
          "metadata": {},
          "execution_count": 25
        }
      ]
    },
    {
      "cell_type": "code",
      "source": [
        "dataset.duplicated()"
      ],
      "metadata": {
        "colab": {
          "base_uri": "https://localhost:8080/"
        },
        "id": "xCA_8MNlTvCu",
        "outputId": "ee644fb7-87c4-4b43-ec70-8897a0b11d18"
      },
      "execution_count": null,
      "outputs": [
        {
          "output_type": "execute_result",
          "data": {
            "text/plain": [
              "268    False\n",
              "566    False\n",
              "627    False\n",
              "392    False\n",
              "163    False\n",
              "       ...  \n",
              "684    False\n",
              "123    False\n",
              "666    False\n",
              "453    False\n",
              "459    False\n",
              "Length: 768, dtype: bool"
            ]
          },
          "metadata": {},
          "execution_count": 26
        }
      ]
    },
    {
      "cell_type": "markdown",
      "source": [
        "b. Fill remaining NULLs with mode values\n",
        "\n",
        "since there are no null or duplicate values in dataset we dont replace it by mode"
      ],
      "metadata": {
        "id": "3lsRBQxoNpkD"
      }
    },
    {
      "cell_type": "code",
      "source": [
        "dataset.mode()"
      ],
      "metadata": {
        "colab": {
          "base_uri": "https://localhost:8080/",
          "height": 176
        },
        "id": "l_U2WfOlT8Sd",
        "outputId": "dffa8e84-ff41-4720-d302-6df9881101d4"
      },
      "execution_count": null,
      "outputs": [
        {
          "output_type": "execute_result",
          "data": {
            "text/plain": [
              "   Pregnancies  Glucose  BloodPressure  SkinThickness  Insulin   BMI  \\\n",
              "0          1.0       99           70.0            0.0      0.0  32.0   \n",
              "1          NaN      100            NaN            NaN      NaN   NaN   \n",
              "\n",
              "   DiabetesPedigreeFunction   Age  Outcome  \n",
              "0                     0.254  22.0      0.0  \n",
              "1                     0.258   NaN      NaN  "
            ],
            "text/html": [
              "\n",
              "  <div id=\"df-dc5cebad-eff7-45af-b02f-b8b4e4ff2052\">\n",
              "    <div class=\"colab-df-container\">\n",
              "      <div>\n",
              "<style scoped>\n",
              "    .dataframe tbody tr th:only-of-type {\n",
              "        vertical-align: middle;\n",
              "    }\n",
              "\n",
              "    .dataframe tbody tr th {\n",
              "        vertical-align: top;\n",
              "    }\n",
              "\n",
              "    .dataframe thead th {\n",
              "        text-align: right;\n",
              "    }\n",
              "</style>\n",
              "<table border=\"1\" class=\"dataframe\">\n",
              "  <thead>\n",
              "    <tr style=\"text-align: right;\">\n",
              "      <th></th>\n",
              "      <th>Pregnancies</th>\n",
              "      <th>Glucose</th>\n",
              "      <th>BloodPressure</th>\n",
              "      <th>SkinThickness</th>\n",
              "      <th>Insulin</th>\n",
              "      <th>BMI</th>\n",
              "      <th>DiabetesPedigreeFunction</th>\n",
              "      <th>Age</th>\n",
              "      <th>Outcome</th>\n",
              "    </tr>\n",
              "  </thead>\n",
              "  <tbody>\n",
              "    <tr>\n",
              "      <th>0</th>\n",
              "      <td>1.0</td>\n",
              "      <td>99</td>\n",
              "      <td>70.0</td>\n",
              "      <td>0.0</td>\n",
              "      <td>0.0</td>\n",
              "      <td>32.0</td>\n",
              "      <td>0.254</td>\n",
              "      <td>22.0</td>\n",
              "      <td>0.0</td>\n",
              "    </tr>\n",
              "    <tr>\n",
              "      <th>1</th>\n",
              "      <td>NaN</td>\n",
              "      <td>100</td>\n",
              "      <td>NaN</td>\n",
              "      <td>NaN</td>\n",
              "      <td>NaN</td>\n",
              "      <td>NaN</td>\n",
              "      <td>0.258</td>\n",
              "      <td>NaN</td>\n",
              "      <td>NaN</td>\n",
              "    </tr>\n",
              "  </tbody>\n",
              "</table>\n",
              "</div>\n",
              "      <button class=\"colab-df-convert\" onclick=\"convertToInteractive('df-dc5cebad-eff7-45af-b02f-b8b4e4ff2052')\"\n",
              "              title=\"Convert this dataframe to an interactive table.\"\n",
              "              style=\"display:none;\">\n",
              "        \n",
              "  <svg xmlns=\"http://www.w3.org/2000/svg\" height=\"24px\"viewBox=\"0 0 24 24\"\n",
              "       width=\"24px\">\n",
              "    <path d=\"M0 0h24v24H0V0z\" fill=\"none\"/>\n",
              "    <path d=\"M18.56 5.44l.94 2.06.94-2.06 2.06-.94-2.06-.94-.94-2.06-.94 2.06-2.06.94zm-11 1L8.5 8.5l.94-2.06 2.06-.94-2.06-.94L8.5 2.5l-.94 2.06-2.06.94zm10 10l.94 2.06.94-2.06 2.06-.94-2.06-.94-.94-2.06-.94 2.06-2.06.94z\"/><path d=\"M17.41 7.96l-1.37-1.37c-.4-.4-.92-.59-1.43-.59-.52 0-1.04.2-1.43.59L10.3 9.45l-7.72 7.72c-.78.78-.78 2.05 0 2.83L4 21.41c.39.39.9.59 1.41.59.51 0 1.02-.2 1.41-.59l7.78-7.78 2.81-2.81c.8-.78.8-2.07 0-2.86zM5.41 20L4 18.59l7.72-7.72 1.47 1.35L5.41 20z\"/>\n",
              "  </svg>\n",
              "      </button>\n",
              "      \n",
              "  <style>\n",
              "    .colab-df-container {\n",
              "      display:flex;\n",
              "      flex-wrap:wrap;\n",
              "      gap: 12px;\n",
              "    }\n",
              "\n",
              "    .colab-df-convert {\n",
              "      background-color: #E8F0FE;\n",
              "      border: none;\n",
              "      border-radius: 50%;\n",
              "      cursor: pointer;\n",
              "      display: none;\n",
              "      fill: #1967D2;\n",
              "      height: 32px;\n",
              "      padding: 0 0 0 0;\n",
              "      width: 32px;\n",
              "    }\n",
              "\n",
              "    .colab-df-convert:hover {\n",
              "      background-color: #E2EBFA;\n",
              "      box-shadow: 0px 1px 2px rgba(60, 64, 67, 0.3), 0px 1px 3px 1px rgba(60, 64, 67, 0.15);\n",
              "      fill: #174EA6;\n",
              "    }\n",
              "\n",
              "    [theme=dark] .colab-df-convert {\n",
              "      background-color: #3B4455;\n",
              "      fill: #D2E3FC;\n",
              "    }\n",
              "\n",
              "    [theme=dark] .colab-df-convert:hover {\n",
              "      background-color: #434B5C;\n",
              "      box-shadow: 0px 1px 3px 1px rgba(0, 0, 0, 0.15);\n",
              "      filter: drop-shadow(0px 1px 2px rgba(0, 0, 0, 0.3));\n",
              "      fill: #FFFFFF;\n",
              "    }\n",
              "  </style>\n",
              "\n",
              "      <script>\n",
              "        const buttonEl =\n",
              "          document.querySelector('#df-dc5cebad-eff7-45af-b02f-b8b4e4ff2052 button.colab-df-convert');\n",
              "        buttonEl.style.display =\n",
              "          google.colab.kernel.accessAllowed ? 'block' : 'none';\n",
              "\n",
              "        async function convertToInteractive(key) {\n",
              "          const element = document.querySelector('#df-dc5cebad-eff7-45af-b02f-b8b4e4ff2052');\n",
              "          const dataTable =\n",
              "            await google.colab.kernel.invokeFunction('convertToInteractive',\n",
              "                                                     [key], {});\n",
              "          if (!dataTable) return;\n",
              "\n",
              "          const docLinkHtml = 'Like what you see? Visit the ' +\n",
              "            '<a target=\"_blank\" href=https://colab.research.google.com/notebooks/data_table.ipynb>data table notebook</a>'\n",
              "            + ' to learn more about interactive tables.';\n",
              "          element.innerHTML = '';\n",
              "          dataTable['output_type'] = 'display_data';\n",
              "          await google.colab.output.renderOutput(dataTable, element);\n",
              "          const docLink = document.createElement('div');\n",
              "          docLink.innerHTML = docLinkHtml;\n",
              "          element.appendChild(docLink);\n",
              "        }\n",
              "      </script>\n",
              "    </div>\n",
              "  </div>\n",
              "  "
            ]
          },
          "metadata": {},
          "execution_count": 27
        }
      ]
    },
    {
      "cell_type": "markdown",
      "source": [
        "c. Are there categorical columns ?\n",
        "Yes there are 9 categorical column"
      ],
      "metadata": {
        "id": "-dM48ia2NsQE"
      }
    },
    {
      "cell_type": "code",
      "source": [
        "print(\"Pregnancies\",dataset['Pregnancies'].unique())\n",
        "print(\"Glucose\",dataset['Glucose'].unique())\n",
        "print(\"BloodPressure\",dataset['BloodPressure'].unique())\n",
        "print(\"SkinThickness\",dataset['SkinThickness'].unique())\n",
        "print(\"Insulin\",dataset['Insulin'].unique())\n",
        "print(\"BMI\",dataset['BMI'].unique())\n",
        "print(\"Age\",dataset['Age'].unique())\n",
        "print(\"DiabetesPedigreeFunction\",dataset['DiabetesPedigreeFunction'].unique())"
      ],
      "metadata": {
        "colab": {
          "base_uri": "https://localhost:8080/"
        },
        "id": "HhVc8CgaUadt",
        "outputId": "69126a5b-ae70-422e-f8ee-f9862c4f4b31"
      },
      "execution_count": null,
      "outputs": [
        {
          "output_type": "stream",
          "name": "stdout",
          "text": [
            "Pregnancies [ 0  1  2  4  3  8  6  7  5  9 10 11 13 14 12 15 17]\n",
            "Glucose [102  99 132 131 100 134  94 117  84  97   0 114 115  96 125  80 143 101\n",
            "  73 139 116  91 105 130  71  78  87 118 177 109 113 126 142  90  89 138\n",
            " 124 108 151 111 112 137  88 106 141 179 103  93  83 104  98 181 136  74\n",
            "  92  95 119 120 173 148  81 175  56 123  79 199 188 127 122 128 107  82\n",
            " 165 154 129 140 121  68 153 174 157 193 158 162  86 135  77 171 147  76\n",
            " 144 180 155 166 146 110 152  85 198 172 163 196 189 182 170 167 195 184\n",
            " 169 197 145 164 183 156  75 168 191 187  44 133 159 186 150  72 160  57\n",
            " 178 194  62  65 149  67  61 161 176 190]\n",
            "BloodPressure [ 52  72  78  64  58  70  90   0  74  66  96  55  50  76  62  68  88  60\n",
            "  80  56  82  75  24  86  65  84  54  48  44 100  46  85  94 110  30  38\n",
            " 122  98  92  40 108 104 106 114 102  61  95]\n",
            "SkinThickness [ 0 30 14 23 20 27 19 36 22 17 10 15 28 24 50 29 18  8 16 26 35 41 32 46\n",
            " 13 31 11 37 42 25 40 33 39 21 43 38 34 45 12 54 47 52 56 63 48 44 49 51\n",
            " 60  7 99]\n",
            "Insulin [  0  18 415 291 115  71  82  23 200  87  61  51 210  45  40  89 478  76\n",
            " 182 152  64 170  94  50  25  66 480 167 120  78 160 105  56 148  53 165\n",
            "  44  88 116 135 159 188  75  60 293  92 140  36  58  84 474  63 278 240\n",
            " 310  54  90 142  32  37 185 335  83 106  16 183 100  95 125 680 284 270\n",
            " 180 265  15 485 330  48  55 168 375 387 158  86 128 194  43 132 250 130\n",
            " 215 178 204  77 129 176 205  85  38  57  41  74  14  59 540 465 110  52\n",
            " 275 145 255  49  99 510  70 190  96 272 235 285 325  81 245 274 579 166\n",
            "  46 155 191  65 318 220 360 249 112 225 440 156 277 744 230 114 231  91\n",
            " 171 144 192 545 119  79 392 402 328  72  42  73 175 126  68 271 193 122\n",
            "  22 228 321 304 342 196 127  67  29 258 495 184 370 150 108 237 146 600\n",
            " 207 543 280 300 846 326]\n",
            "BMI [25.1 38.6 32.4 23.7 29.7 26.4 43.5 25.2  0.  18.2 27.7 38.1 30.8 33.2\n",
            " 22.5 19.1 26.2 21.  23.  23.2 22.1 24.7 27.4 29.2 24.3 22.6 36.9 21.8\n",
            " 34.6 30.4 25.4 31.  28.7 42.9 28.6 24.6 26.  42.7 27.8 35.8 33.6 40.7\n",
            " 40.6 36.6 28.1 42.1 35.7 24.8 29.  29.5 28.2 33.1 28.5 34.2 37.8 25.9\n",
            " 19.4 32.2 37.2 27.3 30.  34.7 40.  25.6 31.2 34.3 30.1 23.9 38.8 28.4\n",
            " 22.4 32.5 27.5 23.1 20.4 25.  22.9 24.2 25.3 57.3 42.4 44.6 27.2 32.\n",
            " 20.  28.  41.5 26.1 39.4 34.4 29.8 44.  29.9 21.2 38.2 34.9 52.3 32.8\n",
            " 24.  35.1 38.  24.1 31.6 33.3 39.1 28.9 22.2 20.1 23.5 45.5 44.1 32.9\n",
            " 36.3 24.4 37.4 44.5 26.5 45.3 30.9 26.6 30.2 40.5 26.3 34.8 42.3 42.6\n",
            " 32.1 30.7 35.5 22.3 27.1 36.8 42.8 45.2 37.6 34.5 36.  36.1 39.9 21.1\n",
            " 34.  19.6 33.7 31.9 19.5 53.2 59.4 21.9 39.5 30.5 38.7 38.4 35.3 32.7\n",
            " 42.  37.5 23.6 47.9 20.8 36.5 49.6 67.1 34.1 38.5 43.3 55.  43.2 35.9\n",
            " 43.6 46.1 45.7 18.4 32.3 49.3 37.7 25.8 33.8 26.8 27.6 39.3 29.3 39.6\n",
            " 44.2 41.3 40.1 35.4 36.2 52.9 39.  37.9 19.9 39.8 35.2 35.  42.2 45.6\n",
            " 28.3 39.7 19.3 37.  23.8 49.7 36.7 45.8 27.9 46.8 29.6 40.9 36.4 23.3\n",
            " 26.9 46.3 48.3 43.1 23.4 33.9 43.4 50.  27.  24.5 25.5 31.3 41.  40.2\n",
            " 48.8 41.8 41.2 38.3 37.3 31.1 38.9 32.6 46.7 46.2 33.5 37.1 40.8 45.\n",
            " 22.7 28.8 35.6 30.3 45.4 24.9 39.2 46.5 26.7 21.7]\n",
            "Age [21 22 23 24 25 26 27 28 29 30 31 32 33 34 35 36 37 38 39 40 41 42 43 44\n",
            " 45 46 47 48 49 50 51 52 53 54 55 56 57 58 59 60 61 62 63 64 65 66 67 68\n",
            " 69 70 72 81]\n",
            "DiabetesPedigreeFunction [0.078 0.412 0.393 0.389 0.368 0.352 0.347 0.313 0.304 0.299 0.289 0.421\n",
            " 0.262 0.258 0.256 0.252 0.248 0.223 0.207 0.206 0.204 0.192 0.187 0.268\n",
            " 0.422 0.434 0.444 1.731 1.072 0.968 0.947 0.874 0.801 0.761 0.693 0.692\n",
            " 0.637 0.597 0.572 0.561 0.559 0.551 0.545 0.543 0.536 0.534 0.515 0.514\n",
            " 0.496 0.453 0.452 0.167 0.158 0.371 0.148 0.142 0.128 0.143 0.147 0.229\n",
            " 0.426 0.43  0.433 0.443 0.446 0.219 0.455 0.472 0.491 0.417 0.493 0.497\n",
            " 0.509 0.51  0.525 0.527 0.198 1.258 0.532 0.487 0.402 1.182 0.196 0.269\n",
            " 0.141 0.26  0.259 0.14  0.085 0.306 0.314 0.318 0.323 0.253 0.326 0.332\n",
            " 0.881 0.88  1.076 0.366 1.095 0.396 0.236 0.237 0.267 0.155 0.586 0.173\n",
            " 0.748 0.101 1.394 0.583 0.682 0.17  0.605 0.176 0.179 0.102 0.174 0.654\n",
            " 0.717 0.645 0.766 0.115 0.404 0.415 0.234 0.233 0.133 0.725 0.427 0.138\n",
            " 0.315 0.231 0.674 0.833 0.828 0.649 0.356 0.261 0.886 0.542 0.614 0.343\n",
            " 0.108 0.257 0.687 0.293 0.892 0.127 0.686 0.302 0.678 0.454 0.278 0.804\n",
            " 0.249 0.247 0.646 0.165 0.123 0.655 0.307 0.305 0.303 0.295 0.292 0.154\n",
            " 0.283 0.699 0.151 0.652 0.364 0.613 0.175 0.58  0.107 0.821 0.217 0.365\n",
            " 0.431 0.612 0.126 0.23  0.13  0.52  0.498 0.205 0.4   0.399 1.251 1.101\n",
            " 0.199 0.629 0.375 0.089 0.401 0.238 0.092 0.547 0.29  0.528 0.28  0.773\n",
            " 0.361 0.591 0.381 0.626 0.342 0.391 0.336 0.334 0.6   0.677 0.482 0.757\n",
            " 0.759 0.933 2.42  0.197 1.268 0.159 0.191 0.241 1.391 0.225 0.24  1.699\n",
            " 2.137 0.221 0.263 0.166 1.893 1.6   0.285 0.189 0.666 0.284 0.878 0.34\n",
            " 0.647 0.33  0.319 0.905 0.324 0.222 0.27  0.483 0.904 0.507 0.416 0.411\n",
            " 0.279 0.407 0.526 0.271 0.479 0.571 0.582 0.118 0.358 0.549 1.292 0.37\n",
            " 0.235 0.503 0.466 0.601 0.624 0.73  0.704 0.695 0.93  0.698 0.867 0.607\n",
            " 0.658 0.294 0.949 0.851 0.962 0.502 0.702 0.816 0.209 0.471 0.19  0.16\n",
            " 0.15  0.246 0.149 0.188 0.598 0.177 1.698 0.711 0.495 0.917 0.395 0.394\n",
            " 0.564 0.329 0.808 0.134 0.337 0.875 0.362 0.296 0.181 0.345 0.215 0.703\n",
            " 0.1   0.218 0.157 0.557 0.201 0.499 0.245 0.38  0.839 0.385 0.501 0.328\n",
            " 0.264 0.61  0.97  0.325 0.344 2.329 0.727 0.351 0.64  0.66  0.161 0.803\n",
            " 0.63  0.254 0.088 1.224 0.871 0.203 0.464 0.831 0.084 0.787 0.529 0.121\n",
            " 0.743 0.672 1.096 0.484 1.321 1.222 1.318 0.183 2.288 0.145 0.955 1.114\n",
            " 0.893 0.447 0.966 0.619 0.733 1.4   0.537 0.709 0.732 0.317 1.022 0.856\n",
            " 0.826 0.282 0.42  0.813 1.021 0.226 0.156 0.3   0.286 0.593 0.719 0.673\n",
            " 0.767 0.18  0.587 0.383 0.212 0.408 1.138 0.516 0.68  0.338 0.346 0.432\n",
            " 0.696 0.554 0.2   0.227 0.423 0.287 0.122 0.463 0.956 1.057 0.22  1.136\n",
            " 0.465 0.742 0.441 0.855 1.174 0.588 0.457 0.944 0.162 0.705 1.191 0.439\n",
            " 0.255 0.374 0.244 0.403 0.578 0.451 0.355 0.096 0.331 0.745 1.162 0.435\n",
            " 0.129 0.722 0.135 0.738 0.272 0.718 1.189 0.251 0.136 0.349 0.382 0.137\n",
            " 0.153 0.661 0.997 0.731 1.127 0.932 1.781 0.926 0.569 0.734 1.144 0.512\n",
            " 1.461 0.178 0.925 0.164 0.144 0.265 0.239 0.376 0.194 0.243 0.335 0.297\n",
            " 0.488 1.476 0.665 0.817 0.378 0.785 0.631 1.213 0.565 1.282 0.341 0.627\n",
            " 0.21  0.388 1.001 1.353 1.154 0.771 1.034 0.56  0.721 0.232 0.845 0.182\n",
            " 0.163 1.39  0.595 0.825 0.744 1.441 0.485 0.467 1.159 0.84  0.398 0.277\n",
            " 0.546 0.615 0.539 0.741 0.575 0.419 0.171 0.409 0.805 0.735 0.186 0.832\n",
            " 0.46 ]\n"
          ]
        }
      ]
    },
    {
      "cell_type": "markdown",
      "source": [
        "#Data Visualization\n",
        "a.Make Histogram, and whisker plots to understand the meaning of the encoding.\n",
        "SOLN:I didnt do data encoding because the dataset had all numerical categorical columns"
      ],
      "metadata": {
        "id": "MqhVSnbdNxRl"
      }
    },
    {
      "cell_type": "code",
      "source": [
        "dataset.hist(figsize=(10,10))\n"
      ],
      "metadata": {
        "colab": {
          "base_uri": "https://localhost:8080/",
          "height": 787
        },
        "id": "xdYTX8IzRQDf",
        "outputId": "a4f3d919-3cf6-4465-b25e-f7e0d83dc626"
      },
      "execution_count": null,
      "outputs": [
        {
          "output_type": "execute_result",
          "data": {
            "text/plain": [
              "array([[<matplotlib.axes._subplots.AxesSubplot object at 0x7f16ec64e310>,\n",
              "        <matplotlib.axes._subplots.AxesSubplot object at 0x7f16ec5a4890>,\n",
              "        <matplotlib.axes._subplots.AxesSubplot object at 0x7f16ec5dae50>],\n",
              "       [<matplotlib.axes._subplots.AxesSubplot object at 0x7f16ec51e490>,\n",
              "        <matplotlib.axes._subplots.AxesSubplot object at 0x7f16ec557a90>,\n",
              "        <matplotlib.axes._subplots.AxesSubplot object at 0x7f16ec5190d0>],\n",
              "       [<matplotlib.axes._subplots.AxesSubplot object at 0x7f16ec4cf750>,\n",
              "        <matplotlib.axes._subplots.AxesSubplot object at 0x7f16ec484c90>,\n",
              "        <matplotlib.axes._subplots.AxesSubplot object at 0x7f16ec484cd0>]],\n",
              "      dtype=object)"
            ]
          },
          "metadata": {},
          "execution_count": 29
        },
        {
          "output_type": "display_data",
          "data": {
            "text/plain": [
              "<Figure size 720x720 with 9 Axes>"
            ],
            "image/png": "[encoded data removed]"
          },
          "metadata": {
            "needs_background": "light"
          }
        }
      ]
    },
    {
      "cell_type": "code",
      "source": [
        "sns.boxplot(dataset[\"BloodPressure\"])"
      ],
      "metadata": {
        "colab": {
          "base_uri": "https://localhost:8080/",
          "height": 297
        },
        "id": "FfyQDFHEa2he",
        "outputId": "9f19766c-2ec9-4d77-848c-d4e6f6ecaf1d"
      },
      "execution_count": null,
      "outputs": [
        {
          "output_type": "execute_result",
          "data": {
            "text/plain": [
              "<matplotlib.axes._subplots.AxesSubplot at 0x7f16ec3eb090>"
            ]
          },
          "metadata": {},
          "execution_count": 30
        },
        {
          "output_type": "display_data",
          "data": {
            "text/plain": [
              "<Figure size 432x288 with 1 Axes>"
            ],
            "image/png": "[encoded data removed]"
          },
          "metadata": {
            "needs_background": "light"
          }
        }
      ]
    },
    {
      "cell_type": "code",
      "source": [
        "sns.boxplot(dataset[\"Pregnancies\"])"
      ],
      "metadata": {
        "colab": {
          "base_uri": "https://localhost:8080/",
          "height": 297
        },
        "id": "CrVz4w1jVZ_w",
        "outputId": "8f408cd1-e5f0-42aa-cba4-0afc40583446"
      },
      "execution_count": null,
      "outputs": [
        {
          "output_type": "execute_result",
          "data": {
            "text/plain": [
              "<matplotlib.axes._subplots.AxesSubplot at 0x7f16ebc5c810>"
            ]
          },
          "metadata": {},
          "execution_count": 31
        },
        {
          "output_type": "display_data",
          "data": {
            "text/plain": [
              "<Figure size 432x288 with 1 Axes>"
            ],
            "image/png": "[encoded data removed]"
          },
          "metadata": {
            "needs_background": "light"
          }
        }
      ]
    },
    {
      "cell_type": "code",
      "source": [
        "sns.boxplot(dataset[\"Glucose\"])"
      ],
      "metadata": {
        "colab": {
          "base_uri": "https://localhost:8080/",
          "height": 297
        },
        "id": "TBuxcQtdXPx1",
        "outputId": "db7ab8df-b235-444a-f7f7-c21f5ac1a84a"
      },
      "execution_count": null,
      "outputs": [
        {
          "output_type": "execute_result",
          "data": {
            "text/plain": [
              "<matplotlib.axes._subplots.AxesSubplot at 0x7f16ebc66710>"
            ]
          },
          "metadata": {},
          "execution_count": 32
        },
        {
          "output_type": "display_data",
          "data": {
            "text/plain": [
              "<Figure size 432x288 with 1 Axes>"
            ],
            "image/png": "[encoded data removed]"
          },
          "metadata": {
            "needs_background": "light"
          }
        }
      ]
    },
    {
      "cell_type": "code",
      "source": [
        "sns.boxplot(dataset[\"SkinThickness\"])"
      ],
      "metadata": {
        "colab": {
          "base_uri": "https://localhost:8080/",
          "height": 297
        },
        "id": "7U1lWA7YXrzL",
        "outputId": "e42f6a7b-87c6-4861-88a8-072997518b33"
      },
      "execution_count": null,
      "outputs": [
        {
          "output_type": "execute_result",
          "data": {
            "text/plain": [
              "<matplotlib.axes._subplots.AxesSubplot at 0x7f16ebbc00d0>"
            ]
          },
          "metadata": {},
          "execution_count": 33
        },
        {
          "output_type": "display_data",
          "data": {
            "text/plain": [
              "<Figure size 432x288 with 1 Axes>"
            ],
            "image/png": "[encoded data removed]"
          },
          "metadata": {
            "needs_background": "light"
          }
        }
      ]
    },
    {
      "cell_type": "code",
      "source": [
        "sns.boxplot(dataset[\"Insulin\"])"
      ],
      "metadata": {
        "colab": {
          "base_uri": "https://localhost:8080/",
          "height": 297
        },
        "id": "JjjLg_IgcIXa",
        "outputId": "999084d6-303e-4a38-d6a4-8e0ef920b238"
      },
      "execution_count": null,
      "outputs": [
        {
          "output_type": "execute_result",
          "data": {
            "text/plain": [
              "<matplotlib.axes._subplots.AxesSubplot at 0x7f16ec18da90>"
            ]
          },
          "metadata": {},
          "execution_count": 34
        },
        {
          "output_type": "display_data",
          "data": {
            "text/plain": [
              "<Figure size 432x288 with 1 Axes>"
            ],
            "image/png": "[encoded data removed]"
          },
          "metadata": {
            "needs_background": "light"
          }
        }
      ]
    },
    {
      "cell_type": "code",
      "source": [
        "sns.boxplot(dataset[\"BMI\"])"
      ],
      "metadata": {
        "colab": {
          "base_uri": "https://localhost:8080/",
          "height": 297
        },
        "id": "jPkFCXhXcMqA",
        "outputId": "38542bb9-a385-4c3d-e63b-333fe94c7bdb"
      },
      "execution_count": null,
      "outputs": [
        {
          "output_type": "execute_result",
          "data": {
            "text/plain": [
              "<matplotlib.axes._subplots.AxesSubplot at 0x7f16ec195f10>"
            ]
          },
          "metadata": {},
          "execution_count": 35
        },
        {
          "output_type": "display_data",
          "data": {
            "text/plain": [
              "<Figure size 432x288 with 1 Axes>"
            ],
            "image/png": "[encoded data removed]"
          },
          "metadata": {
            "needs_background": "light"
          }
        }
      ]
    },
    {
      "cell_type": "code",
      "source": [
        "sns.boxplot(dataset[\"Age\"])"
      ],
      "metadata": {
        "colab": {
          "base_uri": "https://localhost:8080/",
          "height": 297
        },
        "id": "Mv2TZDu-cQS4",
        "outputId": "f8e7503f-0f84-43cc-fab3-a853a2a64421"
      },
      "execution_count": null,
      "outputs": [
        {
          "output_type": "execute_result",
          "data": {
            "text/plain": [
              "<matplotlib.axes._subplots.AxesSubplot at 0x7f16eba5b750>"
            ]
          },
          "metadata": {},
          "execution_count": 36
        },
        {
          "output_type": "display_data",
          "data": {
            "text/plain": [
              "<Figure size 432x288 with 1 Axes>"
            ],
            "image/png": "[encoded data removed]"
          },
          "metadata": {
            "needs_background": "light"
          }
        }
      ]
    },
    {
      "cell_type": "code",
      "source": [
        "sns.boxplot(dataset[\"DiabetesPedigreeFunction\"])"
      ],
      "metadata": {
        "colab": {
          "base_uri": "https://localhost:8080/",
          "height": 297
        },
        "id": "NFBg9JrHcUVm",
        "outputId": "19cef407-e8b8-4110-8492-1cb78352477c"
      },
      "execution_count": null,
      "outputs": [
        {
          "output_type": "execute_result",
          "data": {
            "text/plain": [
              "<matplotlib.axes._subplots.AxesSubplot at 0x7f16eba4f850>"
            ]
          },
          "metadata": {},
          "execution_count": 37
        },
        {
          "output_type": "display_data",
          "data": {
            "text/plain": [
              "<Figure size 432x288 with 1 Axes>"
            ],
            "image/png": "[encoded data removed]"
          },
          "metadata": {
            "needs_background": "light"
          }
        }
      ]
    },
    {
      "cell_type": "code",
      "source": [
        "sns.boxplot(dataset[\"Outcome\"])"
      ],
      "metadata": {
        "colab": {
          "base_uri": "https://localhost:8080/",
          "height": 297
        },
        "id": "V7birbr4ccif",
        "outputId": "07457691-e432-4e70-fbc2-101b5e93b935"
      },
      "execution_count": null,
      "outputs": [
        {
          "output_type": "execute_result",
          "data": {
            "text/plain": [
              "<matplotlib.axes._subplots.AxesSubplot at 0x7f16eb9cf410>"
            ]
          },
          "metadata": {},
          "execution_count": 38
        },
        {
          "output_type": "display_data",
          "data": {
            "text/plain": [
              "<Figure size 432x288 with 1 Axes>"
            ],
            "image/png": "[encoded data removed]"
          },
          "metadata": {
            "needs_background": "light"
          }
        }
      ]
    },
    {
      "cell_type": "markdown",
      "source": [
        "#Hypothesis Testing\n",
        "a. Perform correlation Analysis."
      ],
      "metadata": {
        "id": "bP6kduS_N2vv"
      }
    },
    {
      "cell_type": "code",
      "source": [
        "dataset.corr()"
      ],
      "metadata": {
        "colab": {
          "base_uri": "https://localhost:8080/",
          "height": 395
        },
        "id": "c3OnLrERcqFu",
        "outputId": "9a07895d-84d5-4f09-f214-f9bc156c4aeb"
      },
      "execution_count": null,
      "outputs": [
        {
          "output_type": "execute_result",
          "data": {
            "text/plain": [
              "                          Pregnancies   Glucose  BloodPressure  SkinThickness  \\\n",
              "Pregnancies                  1.000000  0.129459       0.141282      -0.081672   \n",
              "Glucose                      0.129459  1.000000       0.152590       0.057328   \n",
              "BloodPressure                0.141282  0.152590       1.000000       0.207371   \n",
              "SkinThickness               -0.081672  0.057328       0.207371       1.000000   \n",
              "Insulin                     -0.073535  0.331357       0.088933       0.436783   \n",
              "BMI                          0.017683  0.221071       0.281805       0.392573   \n",
              "DiabetesPedigreeFunction    -0.033523  0.137337       0.041265       0.183928   \n",
              "Age                          0.544341  0.263514       0.239528      -0.113970   \n",
              "Outcome                      0.221898  0.466581       0.065068       0.074752   \n",
              "\n",
              "                           Insulin       BMI  DiabetesPedigreeFunction  \\\n",
              "Pregnancies              -0.073535  0.017683                 -0.033523   \n",
              "Glucose                   0.331357  0.221071                  0.137337   \n",
              "BloodPressure             0.088933  0.281805                  0.041265   \n",
              "SkinThickness             0.436783  0.392573                  0.183928   \n",
              "Insulin                   1.000000  0.197859                  0.185071   \n",
              "BMI                       0.197859  1.000000                  0.140647   \n",
              "DiabetesPedigreeFunction  0.185071  0.140647                  1.000000   \n",
              "Age                      -0.042163  0.036242                  0.033561   \n",
              "Outcome                   0.130548  0.292695                  0.173844   \n",
              "\n",
              "                               Age   Outcome  \n",
              "Pregnancies               0.544341  0.221898  \n",
              "Glucose                   0.263514  0.466581  \n",
              "BloodPressure             0.239528  0.065068  \n",
              "SkinThickness            -0.113970  0.074752  \n",
              "Insulin                  -0.042163  0.130548  \n",
              "BMI                       0.036242  0.292695  \n",
              "DiabetesPedigreeFunction  0.033561  0.173844  \n",
              "Age                       1.000000  0.238356  \n",
              "Outcome                   0.238356  1.000000  "
            ],
            "text/html": [
              "\n",
              "  <div id=\"df-2196c3cd-db30-49f2-b305-89ae432285c7\">\n",
              "    <div class=\"colab-df-container\">\n",
              "      <div>\n",
              "<style scoped>\n",
              "    .dataframe tbody tr th:only-of-type {\n",
              "        vertical-align: middle;\n",
              "    }\n",
              "\n",
              "    .dataframe tbody tr th {\n",
              "        vertical-align: top;\n",
              "    }\n",
              "\n",
              "    .dataframe thead th {\n",
              "        text-align: right;\n",
              "    }\n",
              "</style>\n",
              "<table border=\"1\" class=\"dataframe\">\n",
              "  <thead>\n",
              "    <tr style=\"text-align: right;\">\n",
              "      <th></th>\n",
              "      <th>Pregnancies</th>\n",
              "      <th>Glucose</th>\n",
              "      <th>BloodPressure</th>\n",
              "      <th>SkinThickness</th>\n",
              "      <th>Insulin</th>\n",
              "      <th>BMI</th>\n",
              "      <th>DiabetesPedigreeFunction</th>\n",
              "      <th>Age</th>\n",
              "      <th>Outcome</th>\n",
              "    </tr>\n",
              "  </thead>\n",
              "  <tbody>\n",
              "    <tr>\n",
              "      <th>Pregnancies</th>\n",
              "      <td>1.000000</td>\n",
              "      <td>0.129459</td>\n",
              "      <td>0.141282</td>\n",
              "      <td>-0.081672</td>\n",
              "      <td>-0.073535</td>\n",
              "      <td>0.017683</td>\n",
              "      <td>-0.033523</td>\n",
              "      <td>0.544341</td>\n",
              "      <td>0.221898</td>\n",
              "    </tr>\n",
              "    <tr>\n",
              "      <th>Glucose</th>\n",
              "      <td>0.129459</td>\n",
              "      <td>1.000000</td>\n",
              "      <td>0.152590</td>\n",
              "      <td>0.057328</td>\n",
              "      <td>0.331357</td>\n",
              "      <td>0.221071</td>\n",
              "      <td>0.137337</td>\n",
              "      <td>0.263514</td>\n",
              "      <td>0.466581</td>\n",
              "    </tr>\n",
              "    <tr>\n",
              "      <th>BloodPressure</th>\n",
              "      <td>0.141282</td>\n",
              "      <td>0.152590</td>\n",
              "      <td>1.000000</td>\n",
              "      <td>0.207371</td>\n",
              "      <td>0.088933</td>\n",
              "      <td>0.281805</td>\n",
              "      <td>0.041265</td>\n",
              "      <td>0.239528</td>\n",
              "      <td>0.065068</td>\n",
              "    </tr>\n",
              "    <tr>\n",
              "      <th>SkinThickness</th>\n",
              "      <td>-0.081672</td>\n",
              "      <td>0.057328</td>\n",
              "      <td>0.207371</td>\n",
              "      <td>1.000000</td>\n",
              "      <td>0.436783</td>\n",
              "      <td>0.392573</td>\n",
              "      <td>0.183928</td>\n",
              "      <td>-0.113970</td>\n",
              "      <td>0.074752</td>\n",
              "    </tr>\n",
              "    <tr>\n",
              "      <th>Insulin</th>\n",
              "      <td>-0.073535</td>\n",
              "      <td>0.331357</td>\n",
              "      <td>0.088933</td>\n",
              "      <td>0.436783</td>\n",
              "      <td>1.000000</td>\n",
              "      <td>0.197859</td>\n",
              "      <td>0.185071</td>\n",
              "      <td>-0.042163</td>\n",
              "      <td>0.130548</td>\n",
              "    </tr>\n",
              "    <tr>\n",
              "      <th>BMI</th>\n",
              "      <td>0.017683</td>\n",
              "      <td>0.221071</td>\n",
              "      <td>0.281805</td>\n",
              "      <td>0.392573</td>\n",
              "      <td>0.197859</td>\n",
              "      <td>1.000000</td>\n",
              "      <td>0.140647</td>\n",
              "      <td>0.036242</td>\n",
              "      <td>0.292695</td>\n",
              "    </tr>\n",
              "    <tr>\n",
              "      <th>DiabetesPedigreeFunction</th>\n",
              "      <td>-0.033523</td>\n",
              "      <td>0.137337</td>\n",
              "      <td>0.041265</td>\n",
              "      <td>0.183928</td>\n",
              "      <td>0.185071</td>\n",
              "      <td>0.140647</td>\n",
              "      <td>1.000000</td>\n",
              "      <td>0.033561</td>\n",
              "      <td>0.173844</td>\n",
              "    </tr>\n",
              "    <tr>\n",
              "      <th>Age</th>\n",
              "      <td>0.544341</td>\n",
              "      <td>0.263514</td>\n",
              "      <td>0.239528</td>\n",
              "      <td>-0.113970</td>\n",
              "      <td>-0.042163</td>\n",
              "      <td>0.036242</td>\n",
              "      <td>0.033561</td>\n",
              "      <td>1.000000</td>\n",
              "      <td>0.238356</td>\n",
              "    </tr>\n",
              "    <tr>\n",
              "      <th>Outcome</th>\n",
              "      <td>0.221898</td>\n",
              "      <td>0.466581</td>\n",
              "      <td>0.065068</td>\n",
              "      <td>0.074752</td>\n",
              "      <td>0.130548</td>\n",
              "      <td>0.292695</td>\n",
              "      <td>0.173844</td>\n",
              "      <td>0.238356</td>\n",
              "      <td>1.000000</td>\n",
              "    </tr>\n",
              "  </tbody>\n",
              "</table>\n",
              "</div>\n",
              "      <button class=\"colab-df-convert\" onclick=\"convertToInteractive('df-2196c3cd-db30-49f2-b305-89ae432285c7')\"\n",
              "              title=\"Convert this dataframe to an interactive table.\"\n",
              "              style=\"display:none;\">\n",
              "        \n",
              "  <svg xmlns=\"http://www.w3.org/2000/svg\" height=\"24px\"viewBox=\"0 0 24 24\"\n",
              "       width=\"24px\">\n",
              "    <path d=\"M0 0h24v24H0V0z\" fill=\"none\"/>\n",
              "    <path d=\"M18.56 5.44l.94 2.06.94-2.06 2.06-.94-2.06-.94-.94-2.06-.94 2.06-2.06.94zm-11 1L8.5 8.5l.94-2.06 2.06-.94-2.06-.94L8.5 2.5l-.94 2.06-2.06.94zm10 10l.94 2.06.94-2.06 2.06-.94-2.06-.94-.94-2.06-.94 2.06-2.06.94z\"/><path d=\"M17.41 7.96l-1.37-1.37c-.4-.4-.92-.59-1.43-.59-.52 0-1.04.2-1.43.59L10.3 9.45l-7.72 7.72c-.78.78-.78 2.05 0 2.83L4 21.41c.39.39.9.59 1.41.59.51 0 1.02-.2 1.41-.59l7.78-7.78 2.81-2.81c.8-.78.8-2.07 0-2.86zM5.41 20L4 18.59l7.72-7.72 1.47 1.35L5.41 20z\"/>\n",
              "  </svg>\n",
              "      </button>\n",
              "      \n",
              "  <style>\n",
              "    .colab-df-container {\n",
              "      display:flex;\n",
              "      flex-wrap:wrap;\n",
              "      gap: 12px;\n",
              "    }\n",
              "\n",
              "    .colab-df-convert {\n",
              "      background-color: #E8F0FE;\n",
              "      border: none;\n",
              "      border-radius: 50%;\n",
              "      cursor: pointer;\n",
              "      display: none;\n",
              "      fill: #1967D2;\n",
              "      height: 32px;\n",
              "      padding: 0 0 0 0;\n",
              "      width: 32px;\n",
              "    }\n",
              "\n",
              "    .colab-df-convert:hover {\n",
              "      background-color: #E2EBFA;\n",
              "      box-shadow: 0px 1px 2px rgba(60, 64, 67, 0.3), 0px 1px 3px 1px rgba(60, 64, 67, 0.15);\n",
              "      fill: #174EA6;\n",
              "    }\n",
              "\n",
              "    [theme=dark] .colab-df-convert {\n",
              "      background-color: #3B4455;\n",
              "      fill: #D2E3FC;\n",
              "    }\n",
              "\n",
              "    [theme=dark] .colab-df-convert:hover {\n",
              "      background-color: #434B5C;\n",
              "      box-shadow: 0px 1px 3px 1px rgba(0, 0, 0, 0.15);\n",
              "      filter: drop-shadow(0px 1px 2px rgba(0, 0, 0, 0.3));\n",
              "      fill: #FFFFFF;\n",
              "    }\n",
              "  </style>\n",
              "\n",
              "      <script>\n",
              "        const buttonEl =\n",
              "          document.querySelector('#df-2196c3cd-db30-49f2-b305-89ae432285c7 button.colab-df-convert');\n",
              "        buttonEl.style.display =\n",
              "          google.colab.kernel.accessAllowed ? 'block' : 'none';\n",
              "\n",
              "        async function convertToInteractive(key) {\n",
              "          const element = document.querySelector('#df-2196c3cd-db30-49f2-b305-89ae432285c7');\n",
              "          const dataTable =\n",
              "            await google.colab.kernel.invokeFunction('convertToInteractive',\n",
              "                                                     [key], {});\n",
              "          if (!dataTable) return;\n",
              "\n",
              "          const docLinkHtml = 'Like what you see? Visit the ' +\n",
              "            '<a target=\"_blank\" href=https://colab.research.google.com/notebooks/data_table.ipynb>data table notebook</a>'\n",
              "            + ' to learn more about interactive tables.';\n",
              "          element.innerHTML = '';\n",
              "          dataTable['output_type'] = 'display_data';\n",
              "          await google.colab.output.renderOutput(dataTable, element);\n",
              "          const docLink = document.createElement('div');\n",
              "          docLink.innerHTML = docLinkHtml;\n",
              "          element.appendChild(docLink);\n",
              "        }\n",
              "      </script>\n",
              "    </div>\n",
              "  </div>\n",
              "  "
            ]
          },
          "metadata": {},
          "execution_count": 43
        }
      ]
    },
    {
      "cell_type": "code",
      "source": [
        "print(\"Pregnancies\",dataset['Pregnancies'].unique())\n",
        "print(\"Glucose\",dataset['Glucose'].unique())\n",
        "print(\"BloodPressure\",dataset['BloodPressure'].unique())\n",
        "print(\"SkinThickness\",dataset['SkinThickness'].unique())\n",
        "print(\"Insulin\",dataset['Insulin'].unique())\n",
        "print(\"BMI\",dataset['BMI'].unique())\n",
        "print(\"Age\",dataset['Age'].unique())\n",
        "print(\"DiabetesPedigreeFunction\",dataset['DiabetesPedigreeFunction'].unique())"
      ],
      "metadata": {
        "colab": {
          "base_uri": "https://localhost:8080/"
        },
        "id": "olnmvGtPY17u",
        "outputId": "16f34e2d-c6f6-4cbc-c8c3-f89c10ca3a81"
      },
      "execution_count": null,
      "outputs": [
        {
          "output_type": "stream",
          "name": "stdout",
          "text": [
            "Pregnancies [ 0  1  2  4  3  8  6  7  5  9 10 11 13 14 12 15 17]\n",
            "Glucose [102  99 132 131 100 134  94 117  84  97   0 114 115  96 125  80 143 101\n",
            "  73 139 116  91 105 130  71  78  87 118 177 109 113 126 142  90  89 138\n",
            " 124 108 151 111 112 137  88 106 141 179 103  93  83 104  98 181 136  74\n",
            "  92  95 119 120 173 148  81 175  56 123  79 199 188 127 122 128 107  82\n",
            " 165 154 129 140 121  68 153 174 157 193 158 162  86 135  77 171 147  76\n",
            " 144 180 155 166 146 110 152  85 198 172 163 196 189 182 170 167 195 184\n",
            " 169 197 145 164 183 156  75 168 191 187  44 133 159 186 150  72 160  57\n",
            " 178 194  62  65 149  67  61 161 176 190]\n",
            "BloodPressure [ 52  72  78  64  58  70  90   0  74  66  96  55  50  76  62  68  88  60\n",
            "  80  56  82  75  24  86  65  84  54  48  44 100  46  85  94 110  30  38\n",
            " 122  98  92  40 108 104 106 114 102  61  95]\n",
            "SkinThickness [ 0 30 14 23 20 27 19 36 22 17 10 15 28 24 50 29 18  8 16 26 35 41 32 46\n",
            " 13 31 11 37 42 25 40 33 39 21 43 38 34 45 12 54 47 52 56 63 48 44 49 51\n",
            " 60  7 99]\n",
            "Insulin [  0  18 415 291 115  71  82  23 200  87  61  51 210  45  40  89 478  76\n",
            " 182 152  64 170  94  50  25  66 480 167 120  78 160 105  56 148  53 165\n",
            "  44  88 116 135 159 188  75  60 293  92 140  36  58  84 474  63 278 240\n",
            " 310  54  90 142  32  37 185 335  83 106  16 183 100  95 125 680 284 270\n",
            " 180 265  15 485 330  48  55 168 375 387 158  86 128 194  43 132 250 130\n",
            " 215 178 204  77 129 176 205  85  38  57  41  74  14  59 540 465 110  52\n",
            " 275 145 255  49  99 510  70 190  96 272 235 285 325  81 245 274 579 166\n",
            "  46 155 191  65 318 220 360 249 112 225 440 156 277 744 230 114 231  91\n",
            " 171 144 192 545 119  79 392 402 328  72  42  73 175 126  68 271 193 122\n",
            "  22 228 321 304 342 196 127  67  29 258 495 184 370 150 108 237 146 600\n",
            " 207 543 280 300 846 326]\n",
            "BMI [25.1 38.6 32.4 23.7 29.7 26.4 43.5 25.2  0.  18.2 27.7 38.1 30.8 33.2\n",
            " 22.5 19.1 26.2 21.  23.  23.2 22.1 24.7 27.4 29.2 24.3 22.6 36.9 21.8\n",
            " 34.6 30.4 25.4 31.  28.7 42.9 28.6 24.6 26.  42.7 27.8 35.8 33.6 40.7\n",
            " 40.6 36.6 28.1 42.1 35.7 24.8 29.  29.5 28.2 33.1 28.5 34.2 37.8 25.9\n",
            " 19.4 32.2 37.2 27.3 30.  34.7 40.  25.6 31.2 34.3 30.1 23.9 38.8 28.4\n",
            " 22.4 32.5 27.5 23.1 20.4 25.  22.9 24.2 25.3 57.3 42.4 44.6 27.2 32.\n",
            " 20.  28.  41.5 26.1 39.4 34.4 29.8 44.  29.9 21.2 38.2 34.9 52.3 32.8\n",
            " 24.  35.1 38.  24.1 31.6 33.3 39.1 28.9 22.2 20.1 23.5 45.5 44.1 32.9\n",
            " 36.3 24.4 37.4 44.5 26.5 45.3 30.9 26.6 30.2 40.5 26.3 34.8 42.3 42.6\n",
            " 32.1 30.7 35.5 22.3 27.1 36.8 42.8 45.2 37.6 34.5 36.  36.1 39.9 21.1\n",
            " 34.  19.6 33.7 31.9 19.5 53.2 59.4 21.9 39.5 30.5 38.7 38.4 35.3 32.7\n",
            " 42.  37.5 23.6 47.9 20.8 36.5 49.6 67.1 34.1 38.5 43.3 55.  43.2 35.9\n",
            " 43.6 46.1 45.7 18.4 32.3 49.3 37.7 25.8 33.8 26.8 27.6 39.3 29.3 39.6\n",
            " 44.2 41.3 40.1 35.4 36.2 52.9 39.  37.9 19.9 39.8 35.2 35.  42.2 45.6\n",
            " 28.3 39.7 19.3 37.  23.8 49.7 36.7 45.8 27.9 46.8 29.6 40.9 36.4 23.3\n",
            " 26.9 46.3 48.3 43.1 23.4 33.9 43.4 50.  27.  24.5 25.5 31.3 41.  40.2\n",
            " 48.8 41.8 41.2 38.3 37.3 31.1 38.9 32.6 46.7 46.2 33.5 37.1 40.8 45.\n",
            " 22.7 28.8 35.6 30.3 45.4 24.9 39.2 46.5 26.7 21.7]\n",
            "Age [21 22 23 24 25 26 27 28 29 30 31 32 33 34 35 36 37 38 39 40 41 42 43 44\n",
            " 45 46 47 48 49 50 51 52 53 54 55 56 57 58 59 60 61 62 63 64 65 66 67 68\n",
            " 69 70 72 81]\n",
            "DiabetesPedigreeFunction [0.078 0.412 0.393 0.389 0.368 0.352 0.347 0.313 0.304 0.299 0.289 0.421\n",
            " 0.262 0.258 0.256 0.252 0.248 0.223 0.207 0.206 0.204 0.192 0.187 0.268\n",
            " 0.422 0.434 0.444 1.731 1.072 0.968 0.947 0.874 0.801 0.761 0.693 0.692\n",
            " 0.637 0.597 0.572 0.561 0.559 0.551 0.545 0.543 0.536 0.534 0.515 0.514\n",
            " 0.496 0.453 0.452 0.167 0.158 0.371 0.148 0.142 0.128 0.143 0.147 0.229\n",
            " 0.426 0.43  0.433 0.443 0.446 0.219 0.455 0.472 0.491 0.417 0.493 0.497\n",
            " 0.509 0.51  0.525 0.527 0.198 1.258 0.532 0.487 0.402 1.182 0.196 0.269\n",
            " 0.141 0.26  0.259 0.14  0.085 0.306 0.314 0.318 0.323 0.253 0.326 0.332\n",
            " 0.881 0.88  1.076 0.366 1.095 0.396 0.236 0.237 0.267 0.155 0.586 0.173\n",
            " 0.748 0.101 1.394 0.583 0.682 0.17  0.605 0.176 0.179 0.102 0.174 0.654\n",
            " 0.717 0.645 0.766 0.115 0.404 0.415 0.234 0.233 0.133 0.725 0.427 0.138\n",
            " 0.315 0.231 0.674 0.833 0.828 0.649 0.356 0.261 0.886 0.542 0.614 0.343\n",
            " 0.108 0.257 0.687 0.293 0.892 0.127 0.686 0.302 0.678 0.454 0.278 0.804\n",
            " 0.249 0.247 0.646 0.165 0.123 0.655 0.307 0.305 0.303 0.295 0.292 0.154\n",
            " 0.283 0.699 0.151 0.652 0.364 0.613 0.175 0.58  0.107 0.821 0.217 0.365\n",
            " 0.431 0.612 0.126 0.23  0.13  0.52  0.498 0.205 0.4   0.399 1.251 1.101\n",
            " 0.199 0.629 0.375 0.089 0.401 0.238 0.092 0.547 0.29  0.528 0.28  0.773\n",
            " 0.361 0.591 0.381 0.626 0.342 0.391 0.336 0.334 0.6   0.677 0.482 0.757\n",
            " 0.759 0.933 2.42  0.197 1.268 0.159 0.191 0.241 1.391 0.225 0.24  1.699\n",
            " 2.137 0.221 0.263 0.166 1.893 1.6   0.285 0.189 0.666 0.284 0.878 0.34\n",
            " 0.647 0.33  0.319 0.905 0.324 0.222 0.27  0.483 0.904 0.507 0.416 0.411\n",
            " 0.279 0.407 0.526 0.271 0.479 0.571 0.582 0.118 0.358 0.549 1.292 0.37\n",
            " 0.235 0.503 0.466 0.601 0.624 0.73  0.704 0.695 0.93  0.698 0.867 0.607\n",
            " 0.658 0.294 0.949 0.851 0.962 0.502 0.702 0.816 0.209 0.471 0.19  0.16\n",
            " 0.15  0.246 0.149 0.188 0.598 0.177 1.698 0.711 0.495 0.917 0.395 0.394\n",
            " 0.564 0.329 0.808 0.134 0.337 0.875 0.362 0.296 0.181 0.345 0.215 0.703\n",
            " 0.1   0.218 0.157 0.557 0.201 0.499 0.245 0.38  0.839 0.385 0.501 0.328\n",
            " 0.264 0.61  0.97  0.325 0.344 2.329 0.727 0.351 0.64  0.66  0.161 0.803\n",
            " 0.63  0.254 0.088 1.224 0.871 0.203 0.464 0.831 0.084 0.787 0.529 0.121\n",
            " 0.743 0.672 1.096 0.484 1.321 1.222 1.318 0.183 2.288 0.145 0.955 1.114\n",
            " 0.893 0.447 0.966 0.619 0.733 1.4   0.537 0.709 0.732 0.317 1.022 0.856\n",
            " 0.826 0.282 0.42  0.813 1.021 0.226 0.156 0.3   0.286 0.593 0.719 0.673\n",
            " 0.767 0.18  0.587 0.383 0.212 0.408 1.138 0.516 0.68  0.338 0.346 0.432\n",
            " 0.696 0.554 0.2   0.227 0.423 0.287 0.122 0.463 0.956 1.057 0.22  1.136\n",
            " 0.465 0.742 0.441 0.855 1.174 0.588 0.457 0.944 0.162 0.705 1.191 0.439\n",
            " 0.255 0.374 0.244 0.403 0.578 0.451 0.355 0.096 0.331 0.745 1.162 0.435\n",
            " 0.129 0.722 0.135 0.738 0.272 0.718 1.189 0.251 0.136 0.349 0.382 0.137\n",
            " 0.153 0.661 0.997 0.731 1.127 0.932 1.781 0.926 0.569 0.734 1.144 0.512\n",
            " 1.461 0.178 0.925 0.164 0.144 0.265 0.239 0.376 0.194 0.243 0.335 0.297\n",
            " 0.488 1.476 0.665 0.817 0.378 0.785 0.631 1.213 0.565 1.282 0.341 0.627\n",
            " 0.21  0.388 1.001 1.353 1.154 0.771 1.034 0.56  0.721 0.232 0.845 0.182\n",
            " 0.163 1.39  0.595 0.825 0.744 1.441 0.485 0.467 1.159 0.84  0.398 0.277\n",
            " 0.546 0.615 0.539 0.741 0.575 0.419 0.171 0.409 0.805 0.735 0.186 0.832\n",
            " 0.46 ]\n"
          ]
        }
      ]
    },
    {
      "cell_type": "code",
      "source": [
        "matrix = dataset.corr()\n",
        "print(\"Correlation matrix is : \")\n",
        "print(matrix)\n",
        "dataplot = sns.heatmap(dataset.corr(), cmap=\"YlGnBu\", annot=True)"
      ],
      "metadata": {
        "colab": {
          "base_uri": "https://localhost:8080/",
          "height": 982
        },
        "id": "NMR0AFVbZGqn",
        "outputId": "88b40486-49a8-47fb-bc1e-bae72970c1ec"
      },
      "execution_count": null,
      "outputs": [
        {
          "output_type": "stream",
          "name": "stdout",
          "text": [
            "Correlation matrix is : \n",
            "                          Pregnancies   Glucose  BloodPressure  SkinThickness  \\\n",
            "Pregnancies                  1.000000  0.129459       0.141282      -0.081672   \n",
            "Glucose                      0.129459  1.000000       0.152590       0.057328   \n",
            "BloodPressure                0.141282  0.152590       1.000000       0.207371   \n",
            "SkinThickness               -0.081672  0.057328       0.207371       1.000000   \n",
            "Insulin                     -0.073535  0.331357       0.088933       0.436783   \n",
            "BMI                          0.017683  0.221071       0.281805       0.392573   \n",
            "DiabetesPedigreeFunction    -0.033523  0.137337       0.041265       0.183928   \n",
            "Age                          0.544341  0.263514       0.239528      -0.113970   \n",
            "Outcome                      0.221898  0.466581       0.065068       0.074752   \n",
            "\n",
            "                           Insulin       BMI  DiabetesPedigreeFunction  \\\n",
            "Pregnancies              -0.073535  0.017683                 -0.033523   \n",
            "Glucose                   0.331357  0.221071                  0.137337   \n",
            "BloodPressure             0.088933  0.281805                  0.041265   \n",
            "SkinThickness             0.436783  0.392573                  0.183928   \n",
            "Insulin                   1.000000  0.197859                  0.185071   \n",
            "BMI                       0.197859  1.000000                  0.140647   \n",
            "DiabetesPedigreeFunction  0.185071  0.140647                  1.000000   \n",
            "Age                      -0.042163  0.036242                  0.033561   \n",
            "Outcome                   0.130548  0.292695                  0.173844   \n",
            "\n",
            "                               Age   Outcome  \n",
            "Pregnancies               0.544341  0.221898  \n",
            "Glucose                   0.263514  0.466581  \n",
            "BloodPressure             0.239528  0.065068  \n",
            "SkinThickness            -0.113970  0.074752  \n",
            "Insulin                  -0.042163  0.130548  \n",
            "BMI                       0.036242  0.292695  \n",
            "DiabetesPedigreeFunction  0.033561  0.173844  \n",
            "Age                       1.000000  0.238356  \n",
            "Outcome                   0.238356  1.000000  \n"
          ]
        },
        {
          "output_type": "display_data",
          "data": {
            "text/plain": [
              "<Figure size 432x288 with 2 Axes>"
            ],
            "image/png": "[encoded data removed]"
          },
          "metadata": {
            "needs_background": "light"
          }
        }
      ]
    },
    {
      "cell_type": "code",
      "source": [
        "plt.figure(figsize=(10,10))\n",
        "dataset.plot()"
      ],
      "metadata": {
        "colab": {
          "base_uri": "https://localhost:8080/",
          "height": 301
        },
        "id": "E-0zwPTWFsn0",
        "outputId": "951637b1-d4da-4f89-fd5e-8c7d058ff03b"
      },
      "execution_count": null,
      "outputs": [
        {
          "output_type": "execute_result",
          "data": {
            "text/plain": [
              "<matplotlib.axes._subplots.AxesSubplot at 0x7f16e8152210>"
            ]
          },
          "metadata": {},
          "execution_count": 44
        },
        {
          "output_type": "display_data",
          "data": {
            "text/plain": [
              "<Figure size 720x720 with 0 Axes>"
            ]
          },
          "metadata": {}
        },
        {
          "output_type": "display_data",
          "data": {
            "text/plain": [
              "<Figure size 432x288 with 1 Axes>"
            ],
            "image/png": "[encoded data removed]"
          },
          "metadata": {
            "needs_background": "light"
          }
        }
      ]
    },
    {
      "cell_type": "markdown",
      "source": [
        "#Modelling\n",
        "a. Build a Linear Regression Model.\n",
        "1. MAE, MSE, and RMSE results.\n",
        "2. Linear Regression R2 score."
      ],
      "metadata": {
        "id": "DPwTMvSuN8i3"
      }
    },
    {
      "cell_type": "code",
      "source": [
        "from statsmodels.stats.outliers_influence import variance_inflation_factor\n",
        "\n",
        "list_of_num = ['int64','float64']\n",
        "numeric_df = dataset.select_dtypes(list_of_num)\n",
        "numeric_df.head()\n",
        "\n",
        "vif_data = pd.DataFrame()\n",
        "vif_data[\"feature\"] = numeric_df.columns\n",
        "\n",
        "vif_data[\"VIF\"] = [variance_inflation_factor(numeric_df.values, i)\n",
        "                          for i in range(len(numeric_df.columns))]\n",
        "\n",
        "(vif_data.sort_values(\"VIF\"))"
      ],
      "metadata": {
        "colab": {
          "base_uri": "https://localhost:8080/",
          "height": 332
        },
        "id": "2wFqFvkvfqxv",
        "outputId": "606cdfe9-7b29-458f-e4d3-aa68329394df"
      },
      "execution_count": null,
      "outputs": [
        {
          "output_type": "execute_result",
          "data": {
            "text/plain": [
              "                    feature        VIF\n",
              "8                   Outcome   1.948398\n",
              "4                   Insulin   2.063940\n",
              "6  DiabetesPedigreeFunction   3.213450\n",
              "0               Pregnancies   3.364416\n",
              "3             SkinThickness   4.008709\n",
              "7                       Age  13.500531\n",
              "2             BloodPressure  15.313159\n",
              "1                   Glucose  18.030209\n",
              "5                       BMI  18.515112"
            ],
            "text/html": [
              "\n",
              "  <div id=\"df-f890caf1-82f9-4381-9438-7c962c12b2e9\">\n",
              "    <div class=\"colab-df-container\">\n",
              "      <div>\n",
              "<style scoped>\n",
              "    .dataframe tbody tr th:only-of-type {\n",
              "        vertical-align: middle;\n",
              "    }\n",
              "\n",
              "    .dataframe tbody tr th {\n",
              "        vertical-align: top;\n",
              "    }\n",
              "\n",
              "    .dataframe thead th {\n",
              "        text-align: right;\n",
              "    }\n",
              "</style>\n",
              "<table border=\"1\" class=\"dataframe\">\n",
              "  <thead>\n",
              "    <tr style=\"text-align: right;\">\n",
              "      <th></th>\n",
              "      <th>feature</th>\n",
              "      <th>VIF</th>\n",
              "    </tr>\n",
              "  </thead>\n",
              "  <tbody>\n",
              "    <tr>\n",
              "      <th>8</th>\n",
              "      <td>Outcome</td>\n",
              "      <td>1.948398</td>\n",
              "    </tr>\n",
              "    <tr>\n",
              "      <th>4</th>\n",
              "      <td>Insulin</td>\n",
              "      <td>2.063940</td>\n",
              "    </tr>\n",
              "    <tr>\n",
              "      <th>6</th>\n",
              "      <td>DiabetesPedigreeFunction</td>\n",
              "      <td>3.213450</td>\n",
              "    </tr>\n",
              "    <tr>\n",
              "      <th>0</th>\n",
              "      <td>Pregnancies</td>\n",
              "      <td>3.364416</td>\n",
              "    </tr>\n",
              "    <tr>\n",
              "      <th>3</th>\n",
              "      <td>SkinThickness</td>\n",
              "      <td>4.008709</td>\n",
              "    </tr>\n",
              "    <tr>\n",
              "      <th>7</th>\n",
              "      <td>Age</td>\n",
              "      <td>13.500531</td>\n",
              "    </tr>\n",
              "    <tr>\n",
              "      <th>2</th>\n",
              "      <td>BloodPressure</td>\n",
              "      <td>15.313159</td>\n",
              "    </tr>\n",
              "    <tr>\n",
              "      <th>1</th>\n",
              "      <td>Glucose</td>\n",
              "      <td>18.030209</td>\n",
              "    </tr>\n",
              "    <tr>\n",
              "      <th>5</th>\n",
              "      <td>BMI</td>\n",
              "      <td>18.515112</td>\n",
              "    </tr>\n",
              "  </tbody>\n",
              "</table>\n",
              "</div>\n",
              "      <button class=\"colab-df-convert\" onclick=\"convertToInteractive('df-f890caf1-82f9-4381-9438-7c962c12b2e9')\"\n",
              "              title=\"Convert this dataframe to an interactive table.\"\n",
              "              style=\"display:none;\">\n",
              "        \n",
              "  <svg xmlns=\"http://www.w3.org/2000/svg\" height=\"24px\"viewBox=\"0 0 24 24\"\n",
              "       width=\"24px\">\n",
              "    <path d=\"M0 0h24v24H0V0z\" fill=\"none\"/>\n",
              "    <path d=\"M18.56 5.44l.94 2.06.94-2.06 2.06-.94-2.06-.94-.94-2.06-.94 2.06-2.06.94zm-11 1L8.5 8.5l.94-2.06 2.06-.94-2.06-.94L8.5 2.5l-.94 2.06-2.06.94zm10 10l.94 2.06.94-2.06 2.06-.94-2.06-.94-.94-2.06-.94 2.06-2.06.94z\"/><path d=\"M17.41 7.96l-1.37-1.37c-.4-.4-.92-.59-1.43-.59-.52 0-1.04.2-1.43.59L10.3 9.45l-7.72 7.72c-.78.78-.78 2.05 0 2.83L4 21.41c.39.39.9.59 1.41.59.51 0 1.02-.2 1.41-.59l7.78-7.78 2.81-2.81c.8-.78.8-2.07 0-2.86zM5.41 20L4 18.59l7.72-7.72 1.47 1.35L5.41 20z\"/>\n",
              "  </svg>\n",
              "      </button>\n",
              "      \n",
              "  <style>\n",
              "    .colab-df-container {\n",
              "      display:flex;\n",
              "      flex-wrap:wrap;\n",
              "      gap: 12px;\n",
              "    }\n",
              "\n",
              "    .colab-df-convert {\n",
              "      background-color: #E8F0FE;\n",
              "      border: none;\n",
              "      border-radius: 50%;\n",
              "      cursor: pointer;\n",
              "      display: none;\n",
              "      fill: #1967D2;\n",
              "      height: 32px;\n",
              "      padding: 0 0 0 0;\n",
              "      width: 32px;\n",
              "    }\n",
              "\n",
              "    .colab-df-convert:hover {\n",
              "      background-color: #E2EBFA;\n",
              "      box-shadow: 0px 1px 2px rgba(60, 64, 67, 0.3), 0px 1px 3px 1px rgba(60, 64, 67, 0.15);\n",
              "      fill: #174EA6;\n",
              "    }\n",
              "\n",
              "    [theme=dark] .colab-df-convert {\n",
              "      background-color: #3B4455;\n",
              "      fill: #D2E3FC;\n",
              "    }\n",
              "\n",
              "    [theme=dark] .colab-df-convert:hover {\n",
              "      background-color: #434B5C;\n",
              "      box-shadow: 0px 1px 3px 1px rgba(0, 0, 0, 0.15);\n",
              "      filter: drop-shadow(0px 1px 2px rgba(0, 0, 0, 0.3));\n",
              "      fill: #FFFFFF;\n",
              "    }\n",
              "  </style>\n",
              "\n",
              "      <script>\n",
              "        const buttonEl =\n",
              "          document.querySelector('#df-f890caf1-82f9-4381-9438-7c962c12b2e9 button.colab-df-convert');\n",
              "        buttonEl.style.display =\n",
              "          google.colab.kernel.accessAllowed ? 'block' : 'none';\n",
              "\n",
              "        async function convertToInteractive(key) {\n",
              "          const element = document.querySelector('#df-f890caf1-82f9-4381-9438-7c962c12b2e9');\n",
              "          const dataTable =\n",
              "            await google.colab.kernel.invokeFunction('convertToInteractive',\n",
              "                                                     [key], {});\n",
              "          if (!dataTable) return;\n",
              "\n",
              "          const docLinkHtml = 'Like what you see? Visit the ' +\n",
              "            '<a target=\"_blank\" href=https://colab.research.google.com/notebooks/data_table.ipynb>data table notebook</a>'\n",
              "            + ' to learn more about interactive tables.';\n",
              "          element.innerHTML = '';\n",
              "          dataTable['output_type'] = 'display_data';\n",
              "          await google.colab.output.renderOutput(dataTable, element);\n",
              "          const docLink = document.createElement('div');\n",
              "          docLink.innerHTML = docLinkHtml;\n",
              "          element.appendChild(docLink);\n",
              "        }\n",
              "      </script>\n",
              "    </div>\n",
              "  </div>\n",
              "  "
            ]
          },
          "metadata": {},
          "execution_count": 15
        }
      ]
    },
    {
      "cell_type": "code",
      "source": [
        "lst=['Pregnancies','Glucose','SkinThickness','Insulin','BMI','Age','DiabetesPedigreeFunction']"
      ],
      "metadata": {
        "id": "GFIEzn4JevVq"
      },
      "execution_count": null,
      "outputs": []
    },
    {
      "cell_type": "code",
      "source": [
        "dframe=pd.DataFrame(lst)"
      ],
      "metadata": {
        "id": "Hrh1OlcPea8z"
      },
      "execution_count": null,
      "outputs": []
    },
    {
      "cell_type": "code",
      "source": [
        "X, y = dataset[['Pregnancies','Glucose','SkinThickness','Insulin','BMI','Age','DiabetesPedigreeFunction']], dataset[\"Outcome\"]\n",
        "print(\"Initial shape\",X.shape, y.shape)\n",
        "X_train, X_test, y_train, y_test = train_test_split(X, y, test_size=0.2, random_state=1)\n",
        "print(\"Training Data: \",X_train.shape, y_train.shape)\n",
        "print(\"Testing Data: \",X_test.shape, y_test.shape)"
      ],
      "metadata": {
        "colab": {
          "base_uri": "https://localhost:8080/"
        },
        "id": "nSpwRnzcZPPr",
        "outputId": "cf71e769-5396-401e-fb93-55c1e35429d4"
      },
      "execution_count": null,
      "outputs": [
        {
          "output_type": "stream",
          "name": "stdout",
          "text": [
            "Initial shape (768, 7) (768,)\n",
            "Training Data:  (614, 7) (614,)\n",
            "Testing Data:  (154, 7) (154,)\n"
          ]
        }
      ]
    },
    {
      "cell_type": "code",
      "source": [
        "X"
      ],
      "metadata": {
        "colab": {
          "base_uri": "https://localhost:8080/",
          "height": 487
        },
        "id": "XvvQXkjIGj_1",
        "outputId": "e8dfe848-8057-44a1-9f3b-2c972b4586ff"
      },
      "execution_count": null,
      "outputs": [
        {
          "output_type": "execute_result",
          "data": {
            "text/plain": [
              "     Pregnancies  Glucose  SkinThickness  Insulin   BMI  Age  \\\n",
              "268            0      102              0        0  25.1   21   \n",
              "566            1       99             30       18  38.6   21   \n",
              "627            0      132              0        0  32.4   21   \n",
              "392            1      131             14      415  23.7   21   \n",
              "163            2      100             23        0  29.7   21   \n",
              "..           ...      ...            ...      ...   ...  ...   \n",
              "684            5      136              0        0   0.0   69   \n",
              "123            5      132              0        0  26.8   69   \n",
              "666            4      145             18        0  32.5   70   \n",
              "453            2      119              0        0  19.6   72   \n",
              "459            9      134             33       60  25.9   81   \n",
              "\n",
              "     DiabetesPedigreeFunction  \n",
              "268                     0.078  \n",
              "566                     0.412  \n",
              "627                     0.393  \n",
              "392                     0.389  \n",
              "163                     0.368  \n",
              "..                        ...  \n",
              "684                     0.640  \n",
              "123                     0.186  \n",
              "666                     0.235  \n",
              "453                     0.832  \n",
              "459                     0.460  \n",
              "\n",
              "[768 rows x 7 columns]"
            ],
            "text/html": [
              "\n",
              "  <div id=\"df-57d026aa-00a8-4453-901e-8c1bf7791d82\">\n",
              "    <div class=\"colab-df-container\">\n",
              "      <div>\n",
              "<style scoped>\n",
              "    .dataframe tbody tr th:only-of-type {\n",
              "        vertical-align: middle;\n",
              "    }\n",
              "\n",
              "    .dataframe tbody tr th {\n",
              "        vertical-align: top;\n",
              "    }\n",
              "\n",
              "    .dataframe thead th {\n",
              "        text-align: right;\n",
              "    }\n",
              "</style>\n",
              "<table border=\"1\" class=\"dataframe\">\n",
              "  <thead>\n",
              "    <tr style=\"text-align: right;\">\n",
              "      <th></th>\n",
              "      <th>Pregnancies</th>\n",
              "      <th>Glucose</th>\n",
              "      <th>SkinThickness</th>\n",
              "      <th>Insulin</th>\n",
              "      <th>BMI</th>\n",
              "      <th>Age</th>\n",
              "      <th>DiabetesPedigreeFunction</th>\n",
              "    </tr>\n",
              "  </thead>\n",
              "  <tbody>\n",
              "    <tr>\n",
              "      <th>268</th>\n",
              "      <td>0</td>\n",
              "      <td>102</td>\n",
              "      <td>0</td>\n",
              "      <td>0</td>\n",
              "      <td>25.1</td>\n",
              "      <td>21</td>\n",
              "      <td>0.078</td>\n",
              "    </tr>\n",
              "    <tr>\n",
              "      <th>566</th>\n",
              "      <td>1</td>\n",
              "      <td>99</td>\n",
              "      <td>30</td>\n",
              "      <td>18</td>\n",
              "      <td>38.6</td>\n",
              "      <td>21</td>\n",
              "      <td>0.412</td>\n",
              "    </tr>\n",
              "    <tr>\n",
              "      <th>627</th>\n",
              "      <td>0</td>\n",
              "      <td>132</td>\n",
              "      <td>0</td>\n",
              "      <td>0</td>\n",
              "      <td>32.4</td>\n",
              "      <td>21</td>\n",
              "      <td>0.393</td>\n",
              "    </tr>\n",
              "    <tr>\n",
              "      <th>392</th>\n",
              "      <td>1</td>\n",
              "      <td>131</td>\n",
              "      <td>14</td>\n",
              "      <td>415</td>\n",
              "      <td>23.7</td>\n",
              "      <td>21</td>\n",
              "      <td>0.389</td>\n",
              "    </tr>\n",
              "    <tr>\n",
              "      <th>163</th>\n",
              "      <td>2</td>\n",
              "      <td>100</td>\n",
              "      <td>23</td>\n",
              "      <td>0</td>\n",
              "      <td>29.7</td>\n",
              "      <td>21</td>\n",
              "      <td>0.368</td>\n",
              "    </tr>\n",
              "    <tr>\n",
              "      <th>...</th>\n",
              "      <td>...</td>\n",
              "      <td>...</td>\n",
              "      <td>...</td>\n",
              "      <td>...</td>\n",
              "      <td>...</td>\n",
              "      <td>...</td>\n",
              "      <td>...</td>\n",
              "    </tr>\n",
              "    <tr>\n",
              "      <th>684</th>\n",
              "      <td>5</td>\n",
              "      <td>136</td>\n",
              "      <td>0</td>\n",
              "      <td>0</td>\n",
              "      <td>0.0</td>\n",
              "      <td>69</td>\n",
              "      <td>0.640</td>\n",
              "    </tr>\n",
              "    <tr>\n",
              "      <th>123</th>\n",
              "      <td>5</td>\n",
              "      <td>132</td>\n",
              "      <td>0</td>\n",
              "      <td>0</td>\n",
              "      <td>26.8</td>\n",
              "      <td>69</td>\n",
              "      <td>0.186</td>\n",
              "    </tr>\n",
              "    <tr>\n",
              "      <th>666</th>\n",
              "      <td>4</td>\n",
              "      <td>145</td>\n",
              "      <td>18</td>\n",
              "      <td>0</td>\n",
              "      <td>32.5</td>\n",
              "      <td>70</td>\n",
              "      <td>0.235</td>\n",
              "    </tr>\n",
              "    <tr>\n",
              "      <th>453</th>\n",
              "      <td>2</td>\n",
              "      <td>119</td>\n",
              "      <td>0</td>\n",
              "      <td>0</td>\n",
              "      <td>19.6</td>\n",
              "      <td>72</td>\n",
              "      <td>0.832</td>\n",
              "    </tr>\n",
              "    <tr>\n",
              "      <th>459</th>\n",
              "      <td>9</td>\n",
              "      <td>134</td>\n",
              "      <td>33</td>\n",
              "      <td>60</td>\n",
              "      <td>25.9</td>\n",
              "      <td>81</td>\n",
              "      <td>0.460</td>\n",
              "    </tr>\n",
              "  </tbody>\n",
              "</table>\n",
              "<p>768 rows × 7 columns</p>\n",
              "</div>\n",
              "      <button class=\"colab-df-convert\" onclick=\"convertToInteractive('df-57d026aa-00a8-4453-901e-8c1bf7791d82')\"\n",
              "              title=\"Convert this dataframe to an interactive table.\"\n",
              "              style=\"display:none;\">\n",
              "        \n",
              "  <svg xmlns=\"http://www.w3.org/2000/svg\" height=\"24px\"viewBox=\"0 0 24 24\"\n",
              "       width=\"24px\">\n",
              "    <path d=\"M0 0h24v24H0V0z\" fill=\"none\"/>\n",
              "    <path d=\"M18.56 5.44l.94 2.06.94-2.06 2.06-.94-2.06-.94-.94-2.06-.94 2.06-2.06.94zm-11 1L8.5 8.5l.94-2.06 2.06-.94-2.06-.94L8.5 2.5l-.94 2.06-2.06.94zm10 10l.94 2.06.94-2.06 2.06-.94-2.06-.94-.94-2.06-.94 2.06-2.06.94z\"/><path d=\"M17.41 7.96l-1.37-1.37c-.4-.4-.92-.59-1.43-.59-.52 0-1.04.2-1.43.59L10.3 9.45l-7.72 7.72c-.78.78-.78 2.05 0 2.83L4 21.41c.39.39.9.59 1.41.59.51 0 1.02-.2 1.41-.59l7.78-7.78 2.81-2.81c.8-.78.8-2.07 0-2.86zM5.41 20L4 18.59l7.72-7.72 1.47 1.35L5.41 20z\"/>\n",
              "  </svg>\n",
              "      </button>\n",
              "      \n",
              "  <style>\n",
              "    .colab-df-container {\n",
              "      display:flex;\n",
              "      flex-wrap:wrap;\n",
              "      gap: 12px;\n",
              "    }\n",
              "\n",
              "    .colab-df-convert {\n",
              "      background-color: #E8F0FE;\n",
              "      border: none;\n",
              "      border-radius: 50%;\n",
              "      cursor: pointer;\n",
              "      display: none;\n",
              "      fill: #1967D2;\n",
              "      height: 32px;\n",
              "      padding: 0 0 0 0;\n",
              "      width: 32px;\n",
              "    }\n",
              "\n",
              "    .colab-df-convert:hover {\n",
              "      background-color: #E2EBFA;\n",
              "      box-shadow: 0px 1px 2px rgba(60, 64, 67, 0.3), 0px 1px 3px 1px rgba(60, 64, 67, 0.15);\n",
              "      fill: #174EA6;\n",
              "    }\n",
              "\n",
              "    [theme=dark] .colab-df-convert {\n",
              "      background-color: #3B4455;\n",
              "      fill: #D2E3FC;\n",
              "    }\n",
              "\n",
              "    [theme=dark] .colab-df-convert:hover {\n",
              "      background-color: #434B5C;\n",
              "      box-shadow: 0px 1px 3px 1px rgba(0, 0, 0, 0.15);\n",
              "      filter: drop-shadow(0px 1px 2px rgba(0, 0, 0, 0.3));\n",
              "      fill: #FFFFFF;\n",
              "    }\n",
              "  </style>\n",
              "\n",
              "      <script>\n",
              "        const buttonEl =\n",
              "          document.querySelector('#df-57d026aa-00a8-4453-901e-8c1bf7791d82 button.colab-df-convert');\n",
              "        buttonEl.style.display =\n",
              "          google.colab.kernel.accessAllowed ? 'block' : 'none';\n",
              "\n",
              "        async function convertToInteractive(key) {\n",
              "          const element = document.querySelector('#df-57d026aa-00a8-4453-901e-8c1bf7791d82');\n",
              "          const dataTable =\n",
              "            await google.colab.kernel.invokeFunction('convertToInteractive',\n",
              "                                                     [key], {});\n",
              "          if (!dataTable) return;\n",
              "\n",
              "          const docLinkHtml = 'Like what you see? Visit the ' +\n",
              "            '<a target=\"_blank\" href=https://colab.research.google.com/notebooks/data_table.ipynb>data table notebook</a>'\n",
              "            + ' to learn more about interactive tables.';\n",
              "          element.innerHTML = '';\n",
              "          dataTable['output_type'] = 'display_data';\n",
              "          await google.colab.output.renderOutput(dataTable, element);\n",
              "          const docLink = document.createElement('div');\n",
              "          docLink.innerHTML = docLinkHtml;\n",
              "          element.appendChild(docLink);\n",
              "        }\n",
              "      </script>\n",
              "    </div>\n",
              "  </div>\n",
              "  "
            ]
          },
          "metadata": {},
          "execution_count": 57
        }
      ]
    },
    {
      "cell_type": "code",
      "source": [
        "y"
      ],
      "metadata": {
        "colab": {
          "base_uri": "https://localhost:8080/"
        },
        "id": "DfmQsQ8UGWkB",
        "outputId": "ccd2e46c-7aeb-433e-a47a-5ef79e218d7a"
      },
      "execution_count": null,
      "outputs": [
        {
          "output_type": "execute_result",
          "data": {
            "text/plain": [
              "268    0\n",
              "566    0\n",
              "627    0\n",
              "392    0\n",
              "163    0\n",
              "      ..\n",
              "684    0\n",
              "123    0\n",
              "666    1\n",
              "453    0\n",
              "459    0\n",
              "Name: Outcome, Length: 768, dtype: int64"
            ]
          },
          "metadata": {},
          "execution_count": 54
        }
      ]
    },
    {
      "cell_type": "code",
      "source": [
        "model = LinearRegression()\n",
        "model.fit((X_train), y_train)"
      ],
      "metadata": {
        "colab": {
          "base_uri": "https://localhost:8080/"
        },
        "id": "WDE8U63FZaEo",
        "outputId": "a6b92e9a-01ce-4483-c8fb-c622ff7cbc73"
      },
      "execution_count": null,
      "outputs": [
        {
          "output_type": "execute_result",
          "data": {
            "text/plain": [
              "LinearRegression()"
            ]
          },
          "metadata": {},
          "execution_count": 51
        }
      ]
    },
    {
      "cell_type": "code",
      "source": [
        "array = dataset.to_numpy()\n",
        "array\n"
      ],
      "metadata": {
        "colab": {
          "base_uri": "https://localhost:8080/"
        },
        "id": "1zbcnA58ZdeL",
        "outputId": "8e66749e-5650-48ee-b447-09928d2a563e"
      },
      "execution_count": null,
      "outputs": [
        {
          "output_type": "execute_result",
          "data": {
            "text/plain": [
              "array([[0.00e+00, 1.02e+02, 5.20e+01, ..., 7.80e-02, 2.10e+01, 0.00e+00],\n",
              "       [1.00e+00, 9.90e+01, 7.20e+01, ..., 4.12e-01, 2.10e+01, 0.00e+00],\n",
              "       [0.00e+00, 1.32e+02, 7.80e+01, ..., 3.93e-01, 2.10e+01, 0.00e+00],\n",
              "       ...,\n",
              "       [4.00e+00, 1.45e+02, 8.20e+01, ..., 2.35e-01, 7.00e+01, 1.00e+00],\n",
              "       [2.00e+00, 1.19e+02, 0.00e+00, ..., 8.32e-01, 7.20e+01, 0.00e+00],\n",
              "       [9.00e+00, 1.34e+02, 7.40e+01, ..., 4.60e-01, 8.10e+01, 0.00e+00]])"
            ]
          },
          "metadata": {},
          "execution_count": 52
        }
      ]
    },
    {
      "cell_type": "code",
      "source": [
        "y_predict=model.predict(X_train)\n",
        "mae=metrics.mean_absolute_error(y_train, y_predict)\n",
        "print(mae)\n",
        "mse=metrics.mean_squared_error(y_train, y_predict)\n",
        "print(mse)\n",
        "rmse=np.sqrt(metrics.mean_squared_error(y_train, y_predict))\n",
        "print(rmse)\n",
        "R2_score=metrics.r2_score(y_train,y_predict)\n",
        "print(R2_score)"
      ],
      "metadata": {
        "colab": {
          "base_uri": "https://localhost:8080/"
        },
        "id": "fREJit8LGPTU",
        "outputId": "e0bf8a61-b1be-41dc-9208-5df2ee61bf51"
      },
      "execution_count": null,
      "outputs": [
        {
          "output_type": "stream",
          "name": "stdout",
          "text": [
            "0.33881167668170536\n",
            "0.16193226768306593\n",
            "0.40240808600606665\n",
            "0.2928387407626133\n"
          ]
        }
      ]
    },
    {
      "cell_type": "markdown",
      "source": [],
      "metadata": {
        "id": "Svbwh_KlOBU2"
      }
    }
  ]
}